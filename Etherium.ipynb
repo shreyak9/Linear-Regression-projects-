{
 "cells": [
  {
   "cell_type": "markdown",
   "metadata": {},
   "source": [
    "## Simple Validation Method: Train / Validation / Test"
   ]
  },
  {
   "cell_type": "code",
   "execution_count": 26,
   "metadata": {},
   "outputs": [],
   "source": [
    "import pandas as pd \n",
    "import numpy as np \n",
    "from sklearn.model_selection import KFold\n",
    "from sklearn.model_selection import cross_val_score\n",
    "import statsmodels.api as sm\n",
    "import statsmodels.formula.api as smf\n",
    "import patsy\n",
    "import statsmodels.api as sm\n",
    "from statsmodels.stats.outliers_influence import variance_inflation_factor\n",
    "import seaborn as sns\n",
    "sns.set()\n",
    "from sklearn.linear_model import LinearRegression, Lasso, LassoCV, Ridge, RidgeCV\n",
    "import matplotlib as plt\n",
    "from sklearn.metrics import r2_score\n",
    "import matplotlib.pyplot as plt"
   ]
  },
  {
   "cell_type": "code",
   "execution_count": 6,
   "metadata": {},
   "outputs": [],
   "source": [
    "df2 = pd.read_pickle('cleaned_prj3.pkl')"
   ]
  },
  {
   "cell_type": "code",
   "execution_count": 7,
   "metadata": {},
   "outputs": [
    {
     "data": {
      "text/html": [
       "<div>\n",
       "<style scoped>\n",
       "    .dataframe tbody tr th:only-of-type {\n",
       "        vertical-align: middle;\n",
       "    }\n",
       "\n",
       "    .dataframe tbody tr th {\n",
       "        vertical-align: top;\n",
       "    }\n",
       "\n",
       "    .dataframe thead th {\n",
       "        text-align: right;\n",
       "    }\n",
       "</style>\n",
       "<table border=\"1\" class=\"dataframe\">\n",
       "  <thead>\n",
       "    <tr style=\"text-align: right;\">\n",
       "      <th></th>\n",
       "      <th>supply</th>\n",
       "      <th>Transaction_Fee</th>\n",
       "      <th>Blockreward</th>\n",
       "      <th>Network_utilizatione</th>\n",
       "      <th>block_difficulty</th>\n",
       "    </tr>\n",
       "    <tr>\n",
       "      <th>DATE</th>\n",
       "      <th></th>\n",
       "      <th></th>\n",
       "      <th></th>\n",
       "      <th></th>\n",
       "      <th></th>\n",
       "    </tr>\n",
       "  </thead>\n",
       "  <tbody>\n",
       "    <tr>\n",
       "      <th>2019-10-01</th>\n",
       "      <td>1.079744e+08</td>\n",
       "      <td>5.105193e+20</td>\n",
       "      <td>13571.0625</td>\n",
       "      <td>0.8166</td>\n",
       "      <td>2449.823</td>\n",
       "    </tr>\n",
       "    <tr>\n",
       "      <th>2019-09-30</th>\n",
       "      <td>1.079609e+08</td>\n",
       "      <td>1.014741e+21</td>\n",
       "      <td>13445.5625</td>\n",
       "      <td>0.9369</td>\n",
       "      <td>2461.362</td>\n",
       "    </tr>\n",
       "    <tr>\n",
       "      <th>2019-09-29</th>\n",
       "      <td>1.079474e+08</td>\n",
       "      <td>1.131886e+21</td>\n",
       "      <td>13575.6875</td>\n",
       "      <td>0.9567</td>\n",
       "      <td>2451.547</td>\n",
       "    </tr>\n",
       "    <tr>\n",
       "      <th>2019-09-28</th>\n",
       "      <td>1.079338e+08</td>\n",
       "      <td>1.214597e+21</td>\n",
       "      <td>13530.6875</td>\n",
       "      <td>0.9522</td>\n",
       "      <td>2475.973</td>\n",
       "    </tr>\n",
       "    <tr>\n",
       "      <th>2019-09-27</th>\n",
       "      <td>1.079203e+08</td>\n",
       "      <td>1.239590e+21</td>\n",
       "      <td>13399.1250</td>\n",
       "      <td>0.9134</td>\n",
       "      <td>2483.532</td>\n",
       "    </tr>\n",
       "  </tbody>\n",
       "</table>\n",
       "</div>"
      ],
      "text/plain": [
       "                  supply  Transaction_Fee  Blockreward  Network_utilizatione  \\\n",
       "DATE                                                                           \n",
       "2019-10-01  1.079744e+08     5.105193e+20   13571.0625                0.8166   \n",
       "2019-09-30  1.079609e+08     1.014741e+21   13445.5625                0.9369   \n",
       "2019-09-29  1.079474e+08     1.131886e+21   13575.6875                0.9567   \n",
       "2019-09-28  1.079338e+08     1.214597e+21   13530.6875                0.9522   \n",
       "2019-09-27  1.079203e+08     1.239590e+21   13399.1250                0.9134   \n",
       "\n",
       "            block_difficulty  \n",
       "DATE                          \n",
       "2019-10-01          2449.823  \n",
       "2019-09-30          2461.362  \n",
       "2019-09-29          2451.547  \n",
       "2019-09-28          2475.973  \n",
       "2019-09-27          2483.532  "
      ]
     },
     "execution_count": 7,
     "metadata": {},
     "output_type": "execute_result"
    }
   ],
   "source": [
    "df2.head()"
   ]
  },
  {
   "cell_type": "markdown",
   "metadata": {},
   "source": [
    " ## TESTING TO SEE WHICH MODEL IS BEST USING THE PARAMETER "
   ]
  },
  {
   "cell_type": "code",
   "execution_count": 9,
   "metadata": {},
   "outputs": [],
   "source": [
    "from sklearn.model_selection import train_test_split\n",
    "from sklearn.linear_model import LinearRegression, Ridge #ordinary linear regression + w/ ridge regularization\n",
    "from sklearn.preprocessing import StandardScaler, PolynomialFeatures\n",
    "\n"
   ]
  },
  {
   "cell_type": "code",
   "execution_count": 10,
   "metadata": {},
   "outputs": [],
   "source": [
    "X, y = df2.drop('block_difficulty',axis=1), df2['block_difficulty']\n"
   ]
  },
  {
   "cell_type": "code",
   "execution_count": 11,
   "metadata": {},
   "outputs": [],
   "source": [
    "X, X_test, y, y_test = train_test_split(X, y, test_size=.2, random_state=10)"
   ]
  },
  {
   "cell_type": "code",
   "execution_count": 12,
   "metadata": {},
   "outputs": [],
   "source": [
    "X_train, X_val, y_train, y_val = train_test_split(X, y, test_size=.25, random_state=3)\n"
   ]
  },
  {
   "cell_type": "code",
   "execution_count": 13,
   "metadata": {},
   "outputs": [],
   "source": [
    "#set up the 3 models we're choosing from:\n",
    "\n",
    "lm = LinearRegression()\n",
    "\n",
    "#Feature scaling for train, val, and test so that we can run our ridge model on each\n",
    "scaler = StandardScaler()\n",
    "\n",
    "X_train_scaled = scaler.fit_transform(X_train.values)\n",
    "X_val_scaled = scaler.transform(X_val.values)\n",
    "X_test_scaled = scaler.transform(X_test.values)\n",
    "\n",
    "# what does standardscaler do exactly ? \n"
   ]
  },
  {
   "cell_type": "code",
   "execution_count": 14,
   "metadata": {},
   "outputs": [],
   "source": [
    "lm_reg = Ridge(alpha=1)\n",
    "\n",
    "#Feature transforms for train, val, and test so that we can run our poly model on each\n",
    "poly = PolynomialFeatures(degree=2) \n",
    "\n",
    "X_train_poly = poly.fit_transform(X_train.values)\n",
    "X_val_poly = poly.transform(X_val.values)\n",
    "X_test_poly = poly.transform(X_test.values)\n",
    "\n",
    "lm_poly = LinearRegression()\n"
   ]
  },
  {
   "cell_type": "code",
   "execution_count": 15,
   "metadata": {},
   "outputs": [
    {
     "name": "stdout",
     "output_type": "stream",
     "text": [
      "Linear Regression val R^2: 0.732\n",
      "Ridge Regression val R^2: 0.864\n",
      "Degree 2 polynomial regression val R^2: 0.590\n"
     ]
    }
   ],
   "source": [
    "#validate\n",
    "\n",
    "lm.fit(X_train, y_train)\n",
    "print(f'Linear Regression val R^2: {lm.score(X_val, y_val):.3f}')\n",
    "\n",
    "lm_reg.fit(X_train_scaled, y_train)\n",
    "print(f'Ridge Regression val R^2: {lm_reg.score(X_val_scaled, y_val):.3f}')\n",
    "\n",
    "lm_poly.fit(X_train_poly, y_train)\n",
    "print(f'Degree 2 polynomial regression val R^2: {lm_poly.score(X_val_poly, y_val):.3f}')\n"
   ]
  },
  {
   "cell_type": "markdown",
   "metadata": {},
   "source": [
    "##  choosing ridge regression model because of high r^2 score metric "
   ]
  },
  {
   "cell_type": "code",
   "execution_count": 16,
   "metadata": {},
   "outputs": [
    {
     "name": "stderr",
     "output_type": "stream",
     "text": [
      "/Users/shreyakvashisht/anaconda3/lib/python3.7/site-packages/sklearn/linear_model/ridge.py:147: LinAlgWarning: Ill-conditioned matrix (rcond=5.08161e-44): result may not be accurate.\n",
      "  overwrite_a=True).T\n"
     ]
    },
    {
     "data": {
      "text/plain": [
       "Ridge(alpha=1, copy_X=True, fit_intercept=True, max_iter=None, normalize=False,\n",
       "      random_state=None, solver='auto', tol=0.001)"
      ]
     },
     "execution_count": 16,
     "metadata": {},
     "output_type": "execute_result"
    }
   ],
   "source": [
    "# choosing regression model because of high r^2 score metric \n",
    "lm_reg.fit(X,y)"
   ]
  },
  {
   "cell_type": "code",
   "execution_count": 17,
   "metadata": {},
   "outputs": [
    {
     "name": "stdout",
     "output_type": "stream",
     "text": [
      "0.8632440259465621\n"
     ]
    }
   ],
   "source": [
    "print(lm_reg.score(X_test, y_test))"
   ]
  },
  {
   "cell_type": "code",
   "execution_count": 18,
   "metadata": {
    "collapsed": true
   },
   "outputs": [
    {
     "data": {
      "text/plain": [
       "array([ 2916.25383622, -4071.87665348,  3808.45437151,  3987.65025223,\n",
       "        3397.99700002,  3149.43307627, -4056.46313014,  3988.61394363,\n",
       "        4252.60948664, -2818.38751228, -3681.66589326,   340.86777056,\n",
       "       -4517.98106038, -4668.28606212,  3899.97320742, -4154.73856444,\n",
       "       -4243.38868996,  3884.55739433,  2335.28376297,  2263.98596717,\n",
       "        -568.6510202 ,  4109.04913896,  3947.18391263, -4031.4206816 ,\n",
       "        3434.62143293, -4504.48396396,  3942.37877213, -1528.27470747,\n",
       "       -1243.09576119, -4127.76148452, -3963.00616553, -4742.4754577 ,\n",
       "        2815.08815311, -4182.67938074,  1839.08804455,  2972.14818682,\n",
       "        3857.57982008, -4511.23798887, -4752.10964068, -3754.89221727,\n",
       "       -4400.42656672, -4570.01080561,  2277.47438589,  4377.8618522 ,\n",
       "        3732.33812769, -4321.42179497,  3957.78262395, -4401.39050377,\n",
       "       -4547.84904627, -4737.65647518, -4547.8404815 , -4389.82792807,\n",
       "       -4491.00379323,  4202.50791679,  3021.27431483,  3632.13616575,\n",
       "        3993.4429668 ,  3096.43749842,  2128.13382033,  4290.19655129,\n",
       "        3089.69327323, -3898.45190453, -3791.50664025, -4527.60811936,\n",
       "        3821.94264096, -4733.80106617,  3669.71199322,  3645.61292482,\n",
       "       -3113.21392214, -4764.6340081 , -4579.64433954, -3484.15430517,\n",
       "        2570.37401478, -4254.94089558, -4332.01979889, -4547.85015287,\n",
       "        2013.47598508,  2041.42020611, -4448.60174953,  4095.56074415,\n",
       "       -3230.7523049 , -4471.72573704, -4407.17168693,  2997.19817668,\n",
       "        4004.04182723,  1997.08840523, -2844.39254552, -4350.32493173,\n",
       "       -3764.52867408, -4724.16850852,  2047.20073884, -4029.48585467,\n",
       "       -4726.09341424, -4400.42818357,  4300.79603059,  3209.1535622 ,\n",
       "       -4728.98409005, -4144.13886602, -4484.25883513, -4744.40078643,\n",
       "        1914.24047426, -4385.01115474,  3314.18317405, -4425.4776388 ,\n",
       "        3810.3689648 , -4558.43960287, -3773.19907295,  1706.12756787,\n",
       "        -773.87100115,  2656.11241906,  4151.45522443,  1918.09137168,\n",
       "        -793.14944243,  4331.61444645,  3789.18457292,  2018.29651973,\n",
       "        2983.71013173,  2125.23221583, -1418.43757493, -4746.32696719,\n",
       "       -4711.6403881 ,  2116.56798497, -4406.20777076,   493.10035508,\n",
       "         729.16343508,  3202.42111191, -4599.87653219, -4544.94988134,\n",
       "       -3593.02769938,  2905.66626022,  4221.77750478,  3925.02387923,\n",
       "       -4383.08461408, -4276.13759905,  1912.32326371,  4163.00463952,\n",
       "        -399.08337174, -4650.94298858,  2267.83935148,  3483.75929931,\n",
       "       -3819.44566031,  2950.93957574,  -887.55041604,  4016.55485013,\n",
       "        2221.59227882, -3780.90871469, -4147.02927281,   -59.92885932,\n",
       "       -3578.5746143 ,   416.98280482,  4301.7467198 ,  2447.99994671,\n",
       "        3679.33505072,  3556.98423012, -4468.84387851,  1547.15205417,\n",
       "        3011.63931794,  3369.09220524,  3568.54606658, -4541.09591088,\n",
       "       -4491.96747653, -4676.95506307, -4468.83439195,  3507.83452248,\n",
       "        -822.04754737,  3184.1064947 , -3632.53045973, -4454.38257201,\n",
       "        3846.02985096,  2008.66180314,  4393.27788447,  3851.81049595,\n",
       "       -4535.32454625, -1473.36192567,  2396.94445278,  -929.95839351,\n",
       "        3574.32721081,  2830.51421302, -4468.84344206,  1999.99081379,\n",
       "        2521.22482539,  3160.02818653, -4297.3337927 ,  2297.7074114 ,\n",
       "         719.51780406, -4187.49710957,  2498.11150138,  3247.70495235,\n",
       "        4136.02731801, -4524.72612996, -4400.42660511,  3202.42107395,\n",
       "       -1966.65872591, -4793.53705592, -4428.36872193, -3200.89114443,\n",
       "        2553.99505153,  4178.43239694, -4455.34458686,  2011.55257365,\n",
       "        3595.52410001,  4089.79193101,  4313.32038586,  4081.10849359,\n",
       "       -2870.41492587, -4717.42280981, -3699.97376222,  2789.08926644,\n",
       "        4224.66777506,  3793.03805018, -4241.4528123 , -4102.7103356 ,\n",
       "       -4751.14612414, -2940.74382625,  4241.05916833, -4228.92725085,\n",
       "       -4564.22991865,  2738.98275411, -4479.43264782,  3006.83060825,\n",
       "        3620.57432098,  1128.03595754,  -418.34565335,  3917.31574638,\n",
       "        3932.74345696,  4011.73722037, -4493.89438774, -4708.74982155,\n",
       "       -4078.6237296 ,  2331.42723224,  2601.19417044, -3736.58653914,\n",
       "       -3935.06488986,  2003.84046185,  3397.0451355 ,  3008.74880111,\n",
       "       -2237.39966206, -4440.89408681,  3011.65070579, -4451.5007046 ,\n",
       "       -3567.01204621,   787.93572789,  4474.22283857, -3715.38993787,\n",
       "       -3935.06469777,  2957.68649092,  2463.41862926,  3017.43148997,\n",
       "        2800.64654949,  3292.98025172,   935.33843377, -4186.53398069,\n",
       "       -4251.08709546, -4555.55862317, -4709.7150712 ,  3773.75633597,\n",
       "        2057.79946147,  2477.87519861,  2729.34161706,  3902.86273839,\n",
       "         574.99695814,  3109.92607352,  3944.30563458,  3584.92519637,\n",
       "        1896.89799019,  -912.61638953, -4427.40522011,  1655.06057553,\n",
       "       -4411.02509974,  3891.31358911,  3517.48099082, -4798.3541117 ,\n",
       "       -4483.29571353,  4294.03906775, -4013.10563349,  3368.14066267,\n",
       "        2079.94838637, -1721.94150889,  1467.17862671,  2995.27148092,\n",
       "        4261.27999461, -3313.61916935, -4443.78446817, -4735.73521985,\n",
       "       -4717.42412989,   432.39893012,  -590.81689306, -4520.87066993,\n",
       "        2910.48501458,  3099.31865693, -3912.90692631, -4594.08823126,\n",
       "       -3921.58395361, -4704.89567419,  3561.80157227,  3673.56549798,\n",
       "       -4639.38173688, -4717.42401814, -4480.40773969, -4555.55876069,\n",
       "        2150.29413634, -2056.26515124, -4517.97300031,  1519.20865181])"
      ]
     },
     "execution_count": 18,
     "metadata": {},
     "output_type": "execute_result"
    }
   ],
   "source": [
    "lm_reg.predict(X_test_scaled)"
   ]
  },
  {
   "cell_type": "code",
   "execution_count": 35,
   "metadata": {},
   "outputs": [
    {
     "data": {
      "image/png": "[encoded data removed]",
      "text/plain": [
       "<Figure size 432x288 with 1 Axes>"
      ]
     },
     "metadata": {},
     "output_type": "display_data"
    }
   ],
   "source": [
    "##checking predictions using residuals analysis \n",
    "plt.scatter(lm_reg.predict(X_train), lm_reg.predict(X_train) - y_train, color = 'red', label = 'Train data')\n",
    "plt.scatter(lm_reg.predict(X_test), lm_reg.predict(X_test) - y_test, color = 'blue', label = 'Test data')\n",
    "plt.hlines(xmin = 0, xmax = 50, y = 0, linewidth = 7)\n",
    "plt.title('Residual errors')\n",
    "plt.legend(loc = 4)\n",
    "plt.show();"
   ]
  },
  {
   "cell_type": "markdown",
   "metadata": {},
   "source": [
    "## Rigorous Validation Method: Cross-Validation / Test "
   ]
  },
  {
   "cell_type": "code",
   "execution_count": 30,
   "metadata": {},
   "outputs": [],
   "source": [
    "X, y = df2.drop('block_difficulty',axis=1), df2['block_difficulty']\n",
    "X, X_test, y, y_test = train_test_split(X, y, test_size=.2, random_state=10)"
   ]
  },
  {
   "cell_type": "code",
   "execution_count": 31,
   "metadata": {},
   "outputs": [],
   "source": [
    "X, y = np.array(X), np.array(y)"
   ]
  },
  {
   "cell_type": "code",
   "execution_count": 32,
   "metadata": {},
   "outputs": [],
   "source": [
    "kf = KFold(n_splits=5, shuffle=True, random_state = 71)\n",
    "cv_lm_r2s, cv_lm_reg_r2s = [], [] #collect the validation results for both models"
   ]
  },
  {
   "cell_type": "code",
   "execution_count": 33,
   "metadata": {},
   "outputs": [
    {
     "name": "stdout",
     "output_type": "stream",
     "text": [
      "Simple regression scores:  [0.7410956773671913, 0.7386475510808304, 0.7202111919188612, 0.7029566601208942, 0.7118016250989687]\n",
      "Ridge scores:  [0.8820172390209422, 0.8372678210473545, 0.8883259161544231, 0.8701029353740241, 0.8406456061156907] \n",
      "\n",
      "Simple mean cv r^2: 0.723 +- 0.015\n",
      "Ridge mean cv r^2: 0.864 +- 0.021\n"
     ]
    }
   ],
   "source": [
    "for train_ind, val_ind in kf.split(X,y):\n",
    "    \n",
    "    X_train, y_train = X[train_ind], y[train_ind]\n",
    "    X_val, y_val = X[val_ind], y[val_ind] \n",
    "    \n",
    "    #simple linear regression\n",
    "    lm = LinearRegression()\n",
    "    lm_reg = Ridge(alpha=1)\n",
    "\n",
    "    lm.fit(X_train, y_train)\n",
    "    cv_lm_r2s.append(lm.score(X_val, y_val))\n",
    "    \n",
    "    #ridge with feature scaling\n",
    "    scaler = StandardScaler()\n",
    "    X_train_scaled = scaler.fit_transform(X_train)\n",
    "    X_val_scaled = scaler.transform(X_val)\n",
    "    \n",
    "    lm_reg.fit(X_train_scaled, y_train)\n",
    "    cv_lm_reg_r2s.append(lm_reg.score(X_val_scaled, y_val))\n",
    "\n",
    "print('Simple regression scores: ', cv_lm_r2s)\n",
    "print('Ridge scores: ', cv_lm_reg_r2s, '\\n')\n",
    "\n",
    "print(f'Simple mean cv r^2: {np.mean(cv_lm_r2s):.3f} +- {np.std(cv_lm_r2s):.3f}')\n",
    "print(f'Ridge mean cv r^2: {np.mean(cv_lm_reg_r2s):.3f} +- {np.std(cv_lm_reg_r2s):.3f}')"
   ]
  },
  {
   "cell_type": "code",
   "execution_count": 38,
   "metadata": {},
   "outputs": [
    {
     "name": "stdout",
     "output_type": "stream",
     "text": [
      "Ridge Regression test R^2: -44.467\n"
     ]
    }
   ],
   "source": [
    "scaler = StandardScaler()\n",
    "X_scaled = scaler.fit_transform(X)\n",
    "X_test_scaled = scaler.transform(X_test)\n",
    "\n",
    "lm_reg = Ridge(alpha=10) \n",
    "lm_reg.fit(X_scaled,y)\n",
    "print(f'Ridge Regression test R^2: {lm.score(X_test_scaled, y_test):.3f}')"
   ]
  },
  {
   "cell_type": "markdown",
   "metadata": {},
   "source": [
    "## we already have tried for ridge lets plot residuals for ridge regression changing the value of alpha "
   ]
  },
  {
   "cell_type": "code",
   "execution_count": null,
   "metadata": {},
   "outputs": [],
   "source": []
  },
  {
   "cell_type": "code",
   "execution_count": 39,
   "metadata": {},
   "outputs": [
    {
     "data": {
      "image/png": "[encoded data removed]",
      "text/plain": [
       "<Figure size 432x288 with 1 Axes>"
      ]
     },
     "metadata": {},
     "output_type": "display_data"
    }
   ],
   "source": [
    "plt.scatter(lm.predict(X_train), lm_reg.predict(X_train) - y_train, color = 'red', label = 'Train data')\n",
    "plt.scatter(lm.predict(X_test), lm_reg.predict(X_test) - y_test, color = 'blue', label = 'Test data')\n",
    "plt.hlines(xmin = 0, xmax = 50, y = 0, linewidth = 3)\n",
    "plt.title('Residual errors')\n",
    "plt.legend(loc = 4)\n",
    "plt.show()"
   ]
  },
  {
   "cell_type": "markdown",
   "metadata": {},
   "source": [
    "## k fold with sci_kit learn "
   ]
  },
  {
   "cell_type": "code",
   "execution_count": 20,
   "metadata": {},
   "outputs": [
    {
     "data": {
      "text/plain": [
       "array([0.74109568, 0.73864755, 0.72021119, 0.70295666, 0.71180163])"
      ]
     },
     "execution_count": 20,
     "metadata": {},
     "output_type": "execute_result"
    }
   ],
   "source": [
    "kf = KFold(n_splits=5, shuffle=True, random_state = 71)\n",
    "cross_val_score(lm, X, y, cv=kf, scoring='r2')"
   ]
  },
  {
   "cell_type": "code",
   "execution_count": 21,
   "metadata": {},
   "outputs": [
    {
     "name": "stdout",
     "output_type": "stream",
     "text": [
      "0.7200189098396852\n",
      "0.8637077390842312\n"
     ]
    },
    {
     "name": "stderr",
     "output_type": "stream",
     "text": [
      "/Users/shreyakvashisht/anaconda3/lib/python3.7/site-packages/sklearn/linear_model/ridge.py:147: LinAlgWarning: Ill-conditioned matrix (rcond=4.82446e-44): result may not be accurate.\n",
      "  overwrite_a=True).T\n",
      "/Users/shreyakvashisht/anaconda3/lib/python3.7/site-packages/sklearn/linear_model/ridge.py:147: LinAlgWarning: Ill-conditioned matrix (rcond=5.51498e-44): result may not be accurate.\n",
      "  overwrite_a=True).T\n",
      "/Users/shreyakvashisht/anaconda3/lib/python3.7/site-packages/sklearn/linear_model/ridge.py:147: LinAlgWarning: Ill-conditioned matrix (rcond=5.0175e-44): result may not be accurate.\n",
      "  overwrite_a=True).T\n",
      "/Users/shreyakvashisht/anaconda3/lib/python3.7/site-packages/sklearn/linear_model/ridge.py:147: LinAlgWarning: Ill-conditioned matrix (rcond=5.30168e-44): result may not be accurate.\n",
      "  overwrite_a=True).T\n",
      "/Users/shreyakvashisht/anaconda3/lib/python3.7/site-packages/sklearn/linear_model/ridge.py:147: LinAlgWarning: Ill-conditioned matrix (rcond=5.17204e-44): result may not be accurate.\n",
      "  overwrite_a=True).T\n"
     ]
    }
   ],
   "source": [
    "kf = KFold(n_splits=5, shuffle=True, random_state = 1000)\n",
    "\n",
    "print(np.mean(cross_val_score(lm, X, y, cv=kf, scoring='r2')))\n",
    "print(np.mean(cross_val_score(lm_reg, X, y, cv=kf, scoring='r2')))"
   ]
  },
  {
   "cell_type": "markdown",
   "metadata": {},
   "source": [
    "## Regularization "
   ]
  },
  {
   "cell_type": "code",
   "execution_count": 22,
   "metadata": {},
   "outputs": [
    {
     "data": {
      "text/html": [
       "<div>\n",
       "<style scoped>\n",
       "    .dataframe tbody tr th:only-of-type {\n",
       "        vertical-align: middle;\n",
       "    }\n",
       "\n",
       "    .dataframe tbody tr th {\n",
       "        vertical-align: top;\n",
       "    }\n",
       "\n",
       "    .dataframe thead th {\n",
       "        text-align: right;\n",
       "    }\n",
       "</style>\n",
       "<table border=\"1\" class=\"dataframe\">\n",
       "  <thead>\n",
       "    <tr style=\"text-align: right;\">\n",
       "      <th></th>\n",
       "      <th>supply</th>\n",
       "      <th>Transaction_Fee</th>\n",
       "      <th>Blockreward</th>\n",
       "      <th>Network_utilizatione</th>\n",
       "      <th>block_difficulty</th>\n",
       "    </tr>\n",
       "  </thead>\n",
       "  <tbody>\n",
       "    <tr>\n",
       "      <th>supply</th>\n",
       "      <td>1.000000</td>\n",
       "      <td>0.489260</td>\n",
       "      <td>-0.800398</td>\n",
       "      <td>0.907488</td>\n",
       "      <td>0.839891</td>\n",
       "    </tr>\n",
       "    <tr>\n",
       "      <th>Transaction_Fee</th>\n",
       "      <td>0.489260</td>\n",
       "      <td>1.000000</td>\n",
       "      <td>-0.460553</td>\n",
       "      <td>0.635828</td>\n",
       "      <td>0.543271</td>\n",
       "    </tr>\n",
       "    <tr>\n",
       "      <th>Blockreward</th>\n",
       "      <td>-0.800398</td>\n",
       "      <td>-0.460553</td>\n",
       "      <td>1.000000</td>\n",
       "      <td>-0.863434</td>\n",
       "      <td>-0.788653</td>\n",
       "    </tr>\n",
       "    <tr>\n",
       "      <th>Network_utilizatione</th>\n",
       "      <td>0.907488</td>\n",
       "      <td>0.635828</td>\n",
       "      <td>-0.863434</td>\n",
       "      <td>1.000000</td>\n",
       "      <td>0.927747</td>\n",
       "    </tr>\n",
       "    <tr>\n",
       "      <th>block_difficulty</th>\n",
       "      <td>0.839891</td>\n",
       "      <td>0.543271</td>\n",
       "      <td>-0.788653</td>\n",
       "      <td>0.927747</td>\n",
       "      <td>1.000000</td>\n",
       "    </tr>\n",
       "  </tbody>\n",
       "</table>\n",
       "</div>"
      ],
      "text/plain": [
       "                        supply  Transaction_Fee  Blockreward  \\\n",
       "supply                1.000000         0.489260    -0.800398   \n",
       "Transaction_Fee       0.489260         1.000000    -0.460553   \n",
       "Blockreward          -0.800398        -0.460553     1.000000   \n",
       "Network_utilizatione  0.907488         0.635828    -0.863434   \n",
       "block_difficulty      0.839891         0.543271    -0.788653   \n",
       "\n",
       "                      Network_utilizatione  block_difficulty  \n",
       "supply                            0.907488          0.839891  \n",
       "Transaction_Fee                   0.635828          0.543271  \n",
       "Blockreward                      -0.863434         -0.788653  \n",
       "Network_utilizatione              1.000000          0.927747  \n",
       "block_difficulty                  0.927747          1.000000  "
      ]
     },
     "execution_count": 22,
     "metadata": {},
     "output_type": "execute_result"
    }
   ],
   "source": [
    "df2.corr()"
   ]
  },
  {
   "cell_type": "code",
   "execution_count": 23,
   "metadata": {},
   "outputs": [
    {
     "data": {
      "text/html": [
       "<table class=\"simpletable\">\n",
       "<caption>OLS Regression Results</caption>\n",
       "<tr>\n",
       "  <th>Dep. Variable:</th>    <td>block_difficulty</td> <th>  R-squared:         </th> <td>   0.392</td> \n",
       "</tr>\n",
       "<tr>\n",
       "  <th>Model:</th>                   <td>OLS</td>       <th>  Adj. R-squared:    </th> <td>   0.392</td> \n",
       "</tr>\n",
       "<tr>\n",
       "  <th>Method:</th>             <td>Least Squares</td>  <th>  F-statistic:       </th> <td>   976.7</td> \n",
       "</tr>\n",
       "<tr>\n",
       "  <th>Date:</th>             <td>Fri, 11 Oct 2019</td> <th>  Prob (F-statistic):</th> <td>6.71e-166</td>\n",
       "</tr>\n",
       "<tr>\n",
       "  <th>Time:</th>                 <td>17:07:22</td>     <th>  Log-Likelihood:    </th> <td> -12645.</td> \n",
       "</tr>\n",
       "<tr>\n",
       "  <th>No. Observations:</th>      <td>  1517</td>      <th>  AIC:               </th> <td>2.529e+04</td>\n",
       "</tr>\n",
       "<tr>\n",
       "  <th>Df Residuals:</th>          <td>  1515</td>      <th>  BIC:               </th> <td>2.530e+04</td>\n",
       "</tr>\n",
       "<tr>\n",
       "  <th>Df Model:</th>              <td>     1</td>      <th>                     </th>     <td> </td>    \n",
       "</tr>\n",
       "<tr>\n",
       "  <th>Covariance Type:</th>      <td>nonrobust</td>    <th>                     </th>     <td> </td>    \n",
       "</tr>\n",
       "</table>\n",
       "<table class=\"simpletable\">\n",
       "<tr>\n",
       "            <td></td>              <th>coef</th>     <th>std err</th>      <th>t</th>      <th>P>|t|</th>  <th>[0.025</th>    <th>0.975]</th>  \n",
       "</tr>\n",
       "<tr>\n",
       "  <th>supply</th>               <td> 1.147e-05</td> <td> 3.57e-07</td> <td>   32.108</td> <td> 0.000</td> <td> 1.08e-05</td> <td> 1.22e-05</td>\n",
       "</tr>\n",
       "<tr>\n",
       "  <th>Transaction_Fee</th>      <td> 1.168e-18</td> <td> 5.38e-20</td> <td>   21.715</td> <td> 0.000</td> <td> 1.06e-18</td> <td> 1.27e-18</td>\n",
       "</tr>\n",
       "<tr>\n",
       "  <th>Blockreward</th>          <td> 3.181e-09</td> <td> 9.91e-11</td> <td>   32.108</td> <td> 0.000</td> <td> 2.99e-09</td> <td> 3.38e-09</td>\n",
       "</tr>\n",
       "<tr>\n",
       "  <th>Network_utilizatione</th> <td> 4.427e-14</td> <td> 1.38e-15</td> <td>   32.108</td> <td> 0.000</td> <td> 4.16e-14</td> <td>  4.7e-14</td>\n",
       "</tr>\n",
       "</table>\n",
       "<table class=\"simpletable\">\n",
       "<tr>\n",
       "  <th>Omnibus:</th>       <td>71.691</td> <th>  Durbin-Watson:     </th> <td>   0.097</td>\n",
       "</tr>\n",
       "<tr>\n",
       "  <th>Prob(Omnibus):</th> <td> 0.000</td> <th>  Jarque-Bera (JB):  </th> <td>  50.259</td>\n",
       "</tr>\n",
       "<tr>\n",
       "  <th>Skew:</th>          <td> 0.336</td> <th>  Prob(JB):          </th> <td>1.22e-11</td>\n",
       "</tr>\n",
       "<tr>\n",
       "  <th>Kurtosis:</th>      <td> 2.415</td> <th>  Cond. No.          </th> <td>5.23e+21</td>\n",
       "</tr>\n",
       "</table><br/><br/>Warnings:<br/>[1] Standard Errors assume that the covariance matrix of the errors is correctly specified.<br/>[2] The condition number is large, 5.23e+21. This might indicate that there are<br/>strong multicollinearity or other numerical problems."
      ],
      "text/plain": [
       "<class 'statsmodels.iolib.summary.Summary'>\n",
       "\"\"\"\n",
       "                            OLS Regression Results                            \n",
       "==============================================================================\n",
       "Dep. Variable:       block_difficulty   R-squared:                       0.392\n",
       "Model:                            OLS   Adj. R-squared:                  0.392\n",
       "Method:                 Least Squares   F-statistic:                     976.7\n",
       "Date:                Fri, 11 Oct 2019   Prob (F-statistic):          6.71e-166\n",
       "Time:                        17:07:22   Log-Likelihood:                -12645.\n",
       "No. Observations:                1517   AIC:                         2.529e+04\n",
       "Df Residuals:                    1515   BIC:                         2.530e+04\n",
       "Df Model:                           1                                         \n",
       "Covariance Type:            nonrobust                                         \n",
       "========================================================================================\n",
       "                           coef    std err          t      P>|t|      [0.025      0.975]\n",
       "----------------------------------------------------------------------------------------\n",
       "supply                1.147e-05   3.57e-07     32.108      0.000    1.08e-05    1.22e-05\n",
       "Transaction_Fee       1.168e-18   5.38e-20     21.715      0.000    1.06e-18    1.27e-18\n",
       "Blockreward           3.181e-09   9.91e-11     32.108      0.000    2.99e-09    3.38e-09\n",
       "Network_utilizatione  4.427e-14   1.38e-15     32.108      0.000    4.16e-14     4.7e-14\n",
       "==============================================================================\n",
       "Omnibus:                       71.691   Durbin-Watson:                   0.097\n",
       "Prob(Omnibus):                  0.000   Jarque-Bera (JB):               50.259\n",
       "Skew:                           0.336   Prob(JB):                     1.22e-11\n",
       "Kurtosis:                       2.415   Cond. No.                     5.23e+21\n",
       "==============================================================================\n",
       "\n",
       "Warnings:\n",
       "[1] Standard Errors assume that the covariance matrix of the errors is correctly specified.\n",
       "[2] The condition number is large, 5.23e+21. This might indicate that there are\n",
       "strong multicollinearity or other numerical problems.\n",
       "\"\"\""
      ]
     },
     "execution_count": 23,
     "metadata": {},
     "output_type": "execute_result"
    }
   ],
   "source": [
    "X, y = df2.drop('block_difficulty',axis=1), df2['block_difficulty']\n",
    "model = sm.OLS(y, X)\n",
    "fit = model.fit()\n",
    "fit.summary()"
   ]
  },
  {
   "cell_type": "markdown",
   "metadata": {},
   "source": [
    "## high condition number, and high multicolinearity lets try regularization "
   ]
  },
  {
   "cell_type": "code",
   "execution_count": null,
   "metadata": {},
   "outputs": [],
   "source": [
    "# with lasso "
   ]
  },
  {
   "cell_type": "code",
   "execution_count": 64,
   "metadata": {},
   "outputs": [
    {
     "data": {
      "text/plain": [
       "[('supply', 9.097802654087747e-05),\n",
       " ('Transaction_Fee', 4.0013056225172625e-19)]"
      ]
     },
     "execution_count": 64,
     "metadata": {},
     "output_type": "execute_result"
    }
   ],
   "source": [
    "lasso_model = Lasso(alpha = 1000000)\n",
    "selected_columns = ['supply', 'Transaction_Fee', 'Blockreward', 'Network_utilizatione',\n",
    "       'block_difficulty']\n",
    "lasso_model = Lasso(alpha = 1000000) # this is a VERY HIGH regularization strength!, wouldn't usually be used\n",
    "lasso_model.fit(X_train, y_train)\n",
    "list(zip(selected_columns, lasso_model.coef_))"
   ]
  },
  {
   "cell_type": "markdown",
   "metadata": {},
   "source": [
    "### here we can see that lasso has clearly zeored out two big coloumns(Blockreward,Network_utilizatione) ,lets plot a scatter plot to test our results with lasso  "
   ]
  },
  {
   "cell_type": "code",
   "execution_count": 65,
   "metadata": {},
   "outputs": [
    {
     "data": {
      "text/plain": [
       "[<matplotlib.lines.Line2D at 0x1c2797a8d0>]"
      ]
     },
     "execution_count": 65,
     "metadata": {},
     "output_type": "execute_result"
    },
    {
     "data": {
      "image/png": "[encoded data removed]",
      "text/plain": [
       "<Figure size 432x288 with 1 Axes>"
      ]
     },
     "metadata": {},
     "output_type": "display_data"
    }
   ],
   "source": [
    "test_set_pred = lasso_model.predict(X_test)\n",
    "plt.scatter(test_set_pred, y_test, alpha=.1)\n",
    "plt.plot(np.linspace(0,600000,1000), np.linspace(0,600000,1000))"
   ]
  },
  {
   "cell_type": "markdown",
   "metadata": {},
   "source": []
  },
  {
   "cell_type": "markdown",
   "metadata": {},
   "source": [
    "### lets try to drop the two big columns('Blockreward',''Network_utilizatione' cause of lasso ) and see if our stats model results improve "
   ]
  },
  {
   "cell_type": "code",
   "execution_count": 53,
   "metadata": {},
   "outputs": [],
   "source": [
    "df7 = df2.drop(['Blockreward','Network_utilizatione'] ,axis = 1)"
   ]
  },
  {
   "cell_type": "code",
   "execution_count": 55,
   "metadata": {},
   "outputs": [
    {
     "data": {
      "text/html": [
       "<table class=\"simpletable\">\n",
       "<caption>OLS Regression Results</caption>\n",
       "<tr>\n",
       "  <th>Dep. Variable:</th>    <td>block_difficulty</td> <th>  R-squared:         </th> <td>   0.392</td> \n",
       "</tr>\n",
       "<tr>\n",
       "  <th>Model:</th>                   <td>OLS</td>       <th>  Adj. R-squared:    </th> <td>   0.392</td> \n",
       "</tr>\n",
       "<tr>\n",
       "  <th>Method:</th>             <td>Least Squares</td>  <th>  F-statistic:       </th> <td>   976.7</td> \n",
       "</tr>\n",
       "<tr>\n",
       "  <th>Date:</th>             <td>Fri, 11 Oct 2019</td> <th>  Prob (F-statistic):</th> <td>6.71e-166</td>\n",
       "</tr>\n",
       "<tr>\n",
       "  <th>Time:</th>                 <td>22:13:30</td>     <th>  Log-Likelihood:    </th> <td> -12645.</td> \n",
       "</tr>\n",
       "<tr>\n",
       "  <th>No. Observations:</th>      <td>  1517</td>      <th>  AIC:               </th> <td>2.529e+04</td>\n",
       "</tr>\n",
       "<tr>\n",
       "  <th>Df Residuals:</th>          <td>  1515</td>      <th>  BIC:               </th> <td>2.530e+04</td>\n",
       "</tr>\n",
       "<tr>\n",
       "  <th>Df Model:</th>              <td>     1</td>      <th>                     </th>     <td> </td>    \n",
       "</tr>\n",
       "<tr>\n",
       "  <th>Covariance Type:</th>      <td>nonrobust</td>    <th>                     </th>     <td> </td>    \n",
       "</tr>\n",
       "</table>\n",
       "<table class=\"simpletable\">\n",
       "<tr>\n",
       "         <td></td>            <th>coef</th>     <th>std err</th>      <th>t</th>      <th>P>|t|</th>  <th>[0.025</th>    <th>0.975]</th>  \n",
       "</tr>\n",
       "<tr>\n",
       "  <th>supply</th>          <td> 1.147e-05</td> <td> 3.57e-07</td> <td>   32.108</td> <td> 0.000</td> <td> 1.08e-05</td> <td> 1.22e-05</td>\n",
       "</tr>\n",
       "<tr>\n",
       "  <th>Transaction_Fee</th> <td> 1.168e-18</td> <td> 5.38e-20</td> <td>   21.715</td> <td> 0.000</td> <td> 1.06e-18</td> <td> 1.27e-18</td>\n",
       "</tr>\n",
       "</table>\n",
       "<table class=\"simpletable\">\n",
       "<tr>\n",
       "  <th>Omnibus:</th>       <td>71.691</td> <th>  Durbin-Watson:     </th> <td>   0.097</td>\n",
       "</tr>\n",
       "<tr>\n",
       "  <th>Prob(Omnibus):</th> <td> 0.000</td> <th>  Jarque-Bera (JB):  </th> <td>  50.259</td>\n",
       "</tr>\n",
       "<tr>\n",
       "  <th>Skew:</th>          <td> 0.336</td> <th>  Prob(JB):          </th> <td>1.22e-11</td>\n",
       "</tr>\n",
       "<tr>\n",
       "  <th>Kurtosis:</th>      <td> 2.415</td> <th>  Cond. No.          </th> <td>8.53e+12</td>\n",
       "</tr>\n",
       "</table><br/><br/>Warnings:<br/>[1] Standard Errors assume that the covariance matrix of the errors is correctly specified.<br/>[2] The condition number is large, 8.53e+12. This might indicate that there are<br/>strong multicollinearity or other numerical problems."
      ],
      "text/plain": [
       "<class 'statsmodels.iolib.summary.Summary'>\n",
       "\"\"\"\n",
       "                            OLS Regression Results                            \n",
       "==============================================================================\n",
       "Dep. Variable:       block_difficulty   R-squared:                       0.392\n",
       "Model:                            OLS   Adj. R-squared:                  0.392\n",
       "Method:                 Least Squares   F-statistic:                     976.7\n",
       "Date:                Fri, 11 Oct 2019   Prob (F-statistic):          6.71e-166\n",
       "Time:                        22:13:30   Log-Likelihood:                -12645.\n",
       "No. Observations:                1517   AIC:                         2.529e+04\n",
       "Df Residuals:                    1515   BIC:                         2.530e+04\n",
       "Df Model:                           1                                         \n",
       "Covariance Type:            nonrobust                                         \n",
       "===================================================================================\n",
       "                      coef    std err          t      P>|t|      [0.025      0.975]\n",
       "-----------------------------------------------------------------------------------\n",
       "supply           1.147e-05   3.57e-07     32.108      0.000    1.08e-05    1.22e-05\n",
       "Transaction_Fee  1.168e-18   5.38e-20     21.715      0.000    1.06e-18    1.27e-18\n",
       "==============================================================================\n",
       "Omnibus:                       71.691   Durbin-Watson:                   0.097\n",
       "Prob(Omnibus):                  0.000   Jarque-Bera (JB):               50.259\n",
       "Skew:                           0.336   Prob(JB):                     1.22e-11\n",
       "Kurtosis:                       2.415   Cond. No.                     8.53e+12\n",
       "==============================================================================\n",
       "\n",
       "Warnings:\n",
       "[1] Standard Errors assume that the covariance matrix of the errors is correctly specified.\n",
       "[2] The condition number is large, 8.53e+12. This might indicate that there are\n",
       "strong multicollinearity or other numerical problems.\n",
       "\"\"\""
      ]
     },
     "execution_count": 55,
     "metadata": {},
     "output_type": "execute_result"
    }
   ],
   "source": [
    "X, y = df7.drop('block_difficulty',axis=1), df2['block_difficulty']\n",
    "model = sm.OLS(y, X)\n",
    "fit = model.fit()\n",
    "fit.summary()"
   ]
  },
  {
   "cell_type": "markdown",
   "metadata": {},
   "source": [
    "### significant change in the multicolinarity "
   ]
  },
  {
   "cell_type": "markdown",
   "metadata": {},
   "source": [
    "### plotting a residual of our chaged data set with the help of ridge regression to check for better results \n"
   ]
  },
  {
   "cell_type": "code",
   "execution_count": null,
   "metadata": {},
   "outputs": [],
   "source": [
    "### trying to change the mteric to mean squraed error "
   ]
  },
  {
   "cell_type": "code",
   "execution_count": 66,
   "metadata": {},
   "outputs": [
    {
     "name": "stdout",
     "output_type": "stream",
     "text": [
      "Ridge Regression val R^2: 0.732\n"
     ]
    },
    {
     "data": {
      "text/plain": [
       "[<matplotlib.lines.Line2D at 0x1c27f05ac8>]"
      ]
     },
     "execution_count": 66,
     "metadata": {},
     "output_type": "execute_result"
    },
    {
     "data": {
      "image/png": "[encoded data removed]",
      "text/plain": [
       "<Figure size 432x288 with 1 Axes>"
      ]
     },
     "metadata": {},
     "output_type": "display_data"
    }
   ],
   "source": [
    "X, y = df7.drop('block_difficulty',axis=1), df2['block_difficulty']\n",
    "X, X_test1, y, y_test1 = train_test_split(X, y, test_size=.2, random_state=10)\n",
    "X_train, X_val, y_train, y_val = train_test_split(X, y, test_size=.25, random_state=3)\n",
    "\n",
    "lm = LinearRegression()\n",
    "\n",
    "#Feature scaling for train, val, and test so that we can run our ridge model on each\n",
    "scaler = StandardScaler()\n",
    "\n",
    "X_train_scaled = scaler.fit_transform(X_train.values)\n",
    "X_val_scaled = scaler.transform(X_val.values)\n",
    "X_test_scaled = scaler.transform(X_test.values)\n",
    "lm_reg = Ridge(alpha=1)\n",
    "\n",
    "lm_reg.fit(X_train_scaled, y_train)\n",
    "print(f'Ridge Regression val R^2: {lm_reg.score(X_val_scaled, y_val):.3f}')\n",
    "\n",
    "\n",
    "test_set_pred = lm_reg.predict(X_test1)\n",
    "plt.scatter(test_set_pred, y_test1, alpha=.1)\n",
    "plt.plot(np.linspace(0,600000,1000), np.linspace(0,600000,1000))\n"
   ]
  },
  {
   "cell_type": "markdown",
   "metadata": {},
   "source": [
    "## changing the metric to MSE with diffrent values for alphas for comaprison using  GridSearchcv"
   ]
  },
  {
   "cell_type": "code",
   "execution_count": 71,
   "metadata": {},
   "outputs": [
    {
     "name": "stdout",
     "output_type": "stream",
     "text": [
      "Fitting 2 folds for each of 8 candidates, totalling 16 fits\n"
     ]
    },
    {
     "name": "stderr",
     "output_type": "stream",
     "text": [
      "[Parallel(n_jobs=1)]: Using backend SequentialBackend with 1 concurrent workers.\n",
      "[Parallel(n_jobs=1)]: Done  16 out of  16 | elapsed:    0.0s finished\n"
     ]
    },
    {
     "data": {
      "text/html": [
       "<div>\n",
       "<style scoped>\n",
       "    .dataframe tbody tr th:only-of-type {\n",
       "        vertical-align: middle;\n",
       "    }\n",
       "\n",
       "    .dataframe tbody tr th {\n",
       "        vertical-align: top;\n",
       "    }\n",
       "\n",
       "    .dataframe thead th {\n",
       "        text-align: right;\n",
       "    }\n",
       "</style>\n",
       "<table border=\"1\" class=\"dataframe\">\n",
       "  <thead>\n",
       "    <tr style=\"text-align: right;\">\n",
       "      <th></th>\n",
       "      <th>mean_fit_time</th>\n",
       "      <th>std_fit_time</th>\n",
       "      <th>mean_score_time</th>\n",
       "      <th>std_score_time</th>\n",
       "      <th>param_alpha</th>\n",
       "      <th>params</th>\n",
       "      <th>split0_test_score</th>\n",
       "      <th>split1_test_score</th>\n",
       "      <th>mean_test_score</th>\n",
       "      <th>std_test_score</th>\n",
       "      <th>rank_test_score</th>\n",
       "    </tr>\n",
       "  </thead>\n",
       "  <tbody>\n",
       "    <tr>\n",
       "      <th>0</th>\n",
       "      <td>0.001825</td>\n",
       "      <td>0.000313</td>\n",
       "      <td>0.000445</td>\n",
       "      <td>0.000033</td>\n",
       "      <td>0.5</td>\n",
       "      <td>{'alpha': 0.5}</td>\n",
       "      <td>-4.720100e+05</td>\n",
       "      <td>-4.720630e+05</td>\n",
       "      <td>-4.720365e+05</td>\n",
       "      <td>26.487266</td>\n",
       "      <td>2</td>\n",
       "    </tr>\n",
       "    <tr>\n",
       "      <th>1</th>\n",
       "      <td>0.001208</td>\n",
       "      <td>0.000006</td>\n",
       "      <td>0.000428</td>\n",
       "      <td>0.000004</td>\n",
       "      <td>1</td>\n",
       "      <td>{'alpha': 1}</td>\n",
       "      <td>-4.721416e+05</td>\n",
       "      <td>-4.718903e+05</td>\n",
       "      <td>-4.720161e+05</td>\n",
       "      <td>125.656357</td>\n",
       "      <td>1</td>\n",
       "    </tr>\n",
       "    <tr>\n",
       "      <th>2</th>\n",
       "      <td>0.001111</td>\n",
       "      <td>0.000020</td>\n",
       "      <td>0.000377</td>\n",
       "      <td>0.000038</td>\n",
       "      <td>50</td>\n",
       "      <td>{'alpha': 50}</td>\n",
       "      <td>-4.912058e+05</td>\n",
       "      <td>-4.686449e+05</td>\n",
       "      <td>-4.799378e+05</td>\n",
       "      <td>11280.425886</td>\n",
       "      <td>3</td>\n",
       "    </tr>\n",
       "    <tr>\n",
       "      <th>3</th>\n",
       "      <td>0.000945</td>\n",
       "      <td>0.000037</td>\n",
       "      <td>0.000425</td>\n",
       "      <td>0.000047</td>\n",
       "      <td>75</td>\n",
       "      <td>{'alpha': 75}</td>\n",
       "      <td>-5.040930e+05</td>\n",
       "      <td>-4.742102e+05</td>\n",
       "      <td>-4.891680e+05</td>\n",
       "      <td>14941.376972</td>\n",
       "      <td>4</td>\n",
       "    </tr>\n",
       "    <tr>\n",
       "      <th>4</th>\n",
       "      <td>0.001069</td>\n",
       "      <td>0.000075</td>\n",
       "      <td>0.000414</td>\n",
       "      <td>0.000003</td>\n",
       "      <td>300</td>\n",
       "      <td>{'alpha': 300}</td>\n",
       "      <td>-6.427624e+05</td>\n",
       "      <td>-5.923782e+05</td>\n",
       "      <td>-6.175980e+05</td>\n",
       "      <td>25192.109656</td>\n",
       "      <td>5</td>\n",
       "    </tr>\n",
       "    <tr>\n",
       "      <th>5</th>\n",
       "      <td>0.001032</td>\n",
       "      <td>0.000045</td>\n",
       "      <td>0.000467</td>\n",
       "      <td>0.000028</td>\n",
       "      <td>500</td>\n",
       "      <td>{'alpha': 500}</td>\n",
       "      <td>-7.573049e+05</td>\n",
       "      <td>-7.086872e+05</td>\n",
       "      <td>-7.330228e+05</td>\n",
       "      <td>24308.816163</td>\n",
       "      <td>6</td>\n",
       "    </tr>\n",
       "    <tr>\n",
       "      <th>6</th>\n",
       "      <td>0.001180</td>\n",
       "      <td>0.000048</td>\n",
       "      <td>0.000415</td>\n",
       "      <td>0.000002</td>\n",
       "      <td>1000</td>\n",
       "      <td>{'alpha': 1000}</td>\n",
       "      <td>-9.688651e+05</td>\n",
       "      <td>-9.310482e+05</td>\n",
       "      <td>-9.499774e+05</td>\n",
       "      <td>18908.420635</td>\n",
       "      <td>7</td>\n",
       "    </tr>\n",
       "    <tr>\n",
       "      <th>7</th>\n",
       "      <td>0.001761</td>\n",
       "      <td>0.000491</td>\n",
       "      <td>0.000375</td>\n",
       "      <td>0.000081</td>\n",
       "      <td>50000</td>\n",
       "      <td>{'alpha': 50000}</td>\n",
       "      <td>-1.657282e+06</td>\n",
       "      <td>-1.643121e+06</td>\n",
       "      <td>-1.650210e+06</td>\n",
       "      <td>7080.700940</td>\n",
       "      <td>8</td>\n",
       "    </tr>\n",
       "  </tbody>\n",
       "</table>\n",
       "</div>"
      ],
      "text/plain": [
       "   mean_fit_time  std_fit_time  mean_score_time  std_score_time param_alpha  \\\n",
       "0       0.001825      0.000313         0.000445        0.000033         0.5   \n",
       "1       0.001208      0.000006         0.000428        0.000004           1   \n",
       "2       0.001111      0.000020         0.000377        0.000038          50   \n",
       "3       0.000945      0.000037         0.000425        0.000047          75   \n",
       "4       0.001069      0.000075         0.000414        0.000003         300   \n",
       "5       0.001032      0.000045         0.000467        0.000028         500   \n",
       "6       0.001180      0.000048         0.000415        0.000002        1000   \n",
       "7       0.001761      0.000491         0.000375        0.000081       50000   \n",
       "\n",
       "             params  split0_test_score  split1_test_score  mean_test_score  \\\n",
       "0    {'alpha': 0.5}      -4.720100e+05      -4.720630e+05    -4.720365e+05   \n",
       "1      {'alpha': 1}      -4.721416e+05      -4.718903e+05    -4.720161e+05   \n",
       "2     {'alpha': 50}      -4.912058e+05      -4.686449e+05    -4.799378e+05   \n",
       "3     {'alpha': 75}      -5.040930e+05      -4.742102e+05    -4.891680e+05   \n",
       "4    {'alpha': 300}      -6.427624e+05      -5.923782e+05    -6.175980e+05   \n",
       "5    {'alpha': 500}      -7.573049e+05      -7.086872e+05    -7.330228e+05   \n",
       "6   {'alpha': 1000}      -9.688651e+05      -9.310482e+05    -9.499774e+05   \n",
       "7  {'alpha': 50000}      -1.657282e+06      -1.643121e+06    -1.650210e+06   \n",
       "\n",
       "   std_test_score  rank_test_score  \n",
       "0       26.487266                2  \n",
       "1      125.656357                1  \n",
       "2    11280.425886                3  \n",
       "3    14941.376972                4  \n",
       "4    25192.109656                5  \n",
       "5    24308.816163                6  \n",
       "6    18908.420635                7  \n",
       "7     7080.700940                8  "
      ]
     },
     "execution_count": 71,
     "metadata": {},
     "output_type": "execute_result"
    }
   ],
   "source": [
    "from sklearn.linear_model import Ridge\n",
    "from sklearn.model_selection import GridSearchCV\n",
    "\n",
    "params={'alpha': [.5,1,50,75,300,500,1000,50000]}\n",
    "rdg_reg = Ridge()\n",
    "clf = GridSearchCV(rdg_reg,params,cv=2,verbose = 1, scoring = 'neg_mean_squared_error')\n",
    "clf.fit(X_train_scaled,y_train)\n",
    "\n",
    "clf.best_params_\n",
    "#{'alpha': 4}\n",
    "\n",
    "z = pd.DataFrame(clf.cv_results_)\n",
    "z"
   ]
  },
  {
   "cell_type": "markdown",
   "metadata": {},
   "source": [
    "#### really high values for mse "
   ]
  },
  {
   "cell_type": "code",
   "execution_count": 74,
   "metadata": {},
   "outputs": [
    {
     "data": {
      "text/plain": [
       "[-472010.032726484,\n",
       " -472141.60306766664,\n",
       " -491205.81084760954,\n",
       " -504092.98561296606,\n",
       " -642762.4379897007,\n",
       " -757304.897651706,\n",
       " -968865.079211021,\n",
       " -1657282.4708372806]"
      ]
     },
     "execution_count": 74,
     "metadata": {},
     "output_type": "execute_result"
    }
   ],
   "source": [
    "z['split0_test_score'].tolist()"
   ]
  },
  {
   "cell_type": "code",
   "execution_count": 33,
   "metadata": {},
   "outputs": [],
   "source": []
  },
  {
   "cell_type": "markdown",
   "metadata": {},
   "source": [
    "## RMSE"
   ]
  },
  {
   "cell_type": "code",
   "execution_count": 79,
   "metadata": {},
   "outputs": [
    {
     "name": "stdout",
     "output_type": "stream",
     "text": [
      "687.0298630528981\n",
      "687.1256093813319\n",
      "700.8607642375264\n",
      "709.9950602736375\n",
      "801.7246647008565\n",
      "870.2326686879239\n",
      "984.3094428130927\n",
      "1287.3548348599468\n"
     ]
    }
   ],
   "source": [
    "s = list(m['split0_test_score'])\n",
    "s\n",
    "for i in s:\n",
    "    print((i*-1)**0.5)"
   ]
  },
  {
   "cell_type": "code",
   "execution_count": 81,
   "metadata": {},
   "outputs": [
    {
     "data": {
      "text/plain": [
       "array([2732.59496228,  316.01683239, 2396.49468039, 2736.56698938,\n",
       "       2641.45855071, 1874.48557239,  935.50860519, 2834.80873204,\n",
       "       2784.30733774, 1225.48471781,  456.38422175, 1647.22165578,\n",
       "        -79.60489498, -212.16872865, 2763.19829605,  947.55153554,\n",
       "       -132.28702204, 2812.12279218, 2334.2569236 , 1955.23943704,\n",
       "       1465.2714861 , 2591.00525207, 2828.66161868, -192.75302126,\n",
       "       1992.87726736,  122.18778931, 2341.04177852,  612.72067297,\n",
       "       1456.05122556,  982.172867  ])"
      ]
     },
     "execution_count": 81,
     "metadata": {},
     "output_type": "execute_result"
    }
   ],
   "source": [
    "y_pred = lm_reg.predict(X_test_scaled)\n",
    "k= y_pred[0:30]\n",
    "k"
   ]
  },
  {
   "cell_type": "code",
   "execution_count": 82,
   "metadata": {},
   "outputs": [
    {
     "data": {
      "image/png": "[encoded data removed]",
      "text/plain": [
       "<Figure size 432x288 with 1 Axes>"
      ]
     },
     "metadata": {},
     "output_type": "display_data"
    }
   ],
   "source": [
    "import matplotlib.pyplot as plt\n",
    "plt.plot(k, color = 'g'); "
   ]
  },
  {
   "cell_type": "markdown",
   "metadata": {},
   "source": [
    "# Final conculsion \n"
   ]
  },
  {
   "cell_type": "markdown",
   "metadata": {},
   "source": [
    "## ridge regression with feature selection is probably the best model for such a type of prediction \n",
    "## supply has no effect on mining the block diffciulty (opposed to what was prev, thought)\n",
    "## the best bet to predict diffciulty of a block chain is to use network utilization with some other unknown features "
   ]
  },
  {
   "cell_type": "markdown",
   "metadata": {},
   "source": [
    "# pwd"
   ]
  },
  {
   "cell_type": "code",
   "execution_count": null,
   "metadata": {},
   "outputs": [],
   "source": []
  },
  {
   "cell_type": "code",
   "execution_count": null,
   "metadata": {},
   "outputs": [],
   "source": []
  },
  {
   "cell_type": "code",
   "execution_count": null,
   "metadata": {},
   "outputs": [],
   "source": []
  },
  {
   "cell_type": "code",
   "execution_count": null,
   "metadata": {},
   "outputs": [],
   "source": []
  },
  {
   "cell_type": "code",
   "execution_count": null,
   "metadata": {},
   "outputs": [],
   "source": []
  },
  {
   "cell_type": "code",
   "execution_count": null,
   "metadata": {},
   "outputs": [],
   "source": []
  },
  {
   "cell_type": "code",
   "execution_count": null,
   "metadata": {},
   "outputs": [],
   "source": []
  },
  {
   "cell_type": "code",
   "execution_count": 86,
   "metadata": {},
   "outputs": [],
   "source": []
  },
  {
   "cell_type": "code",
   "execution_count": null,
   "metadata": {},
   "outputs": [],
   "source": []
  },
  {
   "cell_type": "code",
   "execution_count": null,
   "metadata": {},
   "outputs": [],
   "source": [
    "\n"
   ]
  },
  {
   "cell_type": "code",
   "execution_count": null,
   "metadata": {},
   "outputs": [],
   "source": []
  },
  {
   "cell_type": "code",
   "execution_count": null,
   "metadata": {},
   "outputs": [],
   "source": []
  },
  {
   "cell_type": "code",
   "execution_count": null,
   "metadata": {},
   "outputs": [],
   "source": []
  }
 ],
 "metadata": {
  "kernelspec": {
   "display_name": "Python 3",
   "language": "python",
   "name": "python3"
  },
  "language_info": {
   "codemirror_mode": {
    "name": "ipython",
    "version": 3
   },
   "file_extension": ".py",
   "mimetype": "text/x-python",
   "name": "python",
   "nbconvert_exporter": "python",
   "pygments_lexer": "ipython3",
   "version": "3.7.3"
  }
 },
 "nbformat": 4,
 "nbformat_minor": 2
}

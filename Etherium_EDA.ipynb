{
 "cells": [
  {
   "cell_type": "markdown",
   "metadata": {},
   "source": [
    " ## importing the data / scrapping  \n",
    "\n"
   ]
  },
  {
   "cell_type": "code",
   "execution_count": 1,
   "metadata": {},
   "outputs": [],
   "source": [
    "## importing the data \n",
    "\n",
    "import requests\n",
    "\n",
    "requests.__path__\n",
    "from datetime import datetime"
   ]
  },
  {
   "cell_type": "code",
   "execution_count": 2,
   "metadata": {},
   "outputs": [],
   "source": [
    "url = 'https://coinmarketcap.com/currencies/ethereum/historical-data/?start=20130428&end=20191001'"
   ]
  },
  {
   "cell_type": "code",
   "execution_count": 3,
   "metadata": {},
   "outputs": [],
   "source": [
    "response = requests.get(url)"
   ]
  },
  {
   "cell_type": "code",
   "execution_count": 4,
   "metadata": {},
   "outputs": [
    {
     "data": {
      "text/plain": [
       "200"
      ]
     },
     "execution_count": 4,
     "metadata": {},
     "output_type": "execute_result"
    }
   ],
   "source": [
    "response.status_code "
   ]
  },
  {
   "cell_type": "code",
   "execution_count": null,
   "metadata": {
    "scrolled": true
   },
   "outputs": [],
   "source": [
    "print(response.text)"
   ]
  },
  {
   "cell_type": "code",
   "execution_count": 6,
   "metadata": {},
   "outputs": [],
   "source": [
    "page = response.text"
   ]
  },
  {
   "cell_type": "code",
   "execution_count": 7,
   "metadata": {},
   "outputs": [],
   "source": [
    "from bs4 import BeautifulSoup"
   ]
  },
  {
   "cell_type": "code",
   "execution_count": 8,
   "metadata": {},
   "outputs": [],
   "source": [
    "soup = BeautifulSoup(page, \"lxml\")"
   ]
  },
  {
   "cell_type": "code",
   "execution_count": null,
   "metadata": {
    "scrolled": false
   },
   "outputs": [],
   "source": [
    "print(soup.prettify())"
   ]
  },
  {
   "cell_type": "code",
   "execution_count": 10,
   "metadata": {},
   "outputs": [],
   "source": [
    "table = soup.find('table', attrs={'class':'table'})"
   ]
  },
  {
   "cell_type": "code",
   "execution_count": null,
   "metadata": {},
   "outputs": [],
   "source": []
  },
  {
   "cell_type": "code",
   "execution_count": 11,
   "metadata": {},
   "outputs": [],
   "source": [
    "table_rows = table.find_all('tr')"
   ]
  },
  {
   "cell_type": "code",
   "execution_count": 12,
   "metadata": {},
   "outputs": [],
   "source": [
    "import pandas as pd "
   ]
  },
  {
   "cell_type": "code",
   "execution_count": 13,
   "metadata": {},
   "outputs": [],
   "source": [
    "l = []\n",
    "for tr in table_rows:\n",
    "    td = tr.find_all('td')\n",
    "    row = [tr.text for tr in td]\n",
    "    l.append(row)\n",
    "ether_vol = pd.DataFrame(l, columns=[\"DATE\", \"OPEN\", \"HIGH\",\"LOW\",\"CLOSE\",\"VOLUME\",\"MARKET_CAP\"])"
   ]
  },
  {
   "cell_type": "code",
   "execution_count": null,
   "metadata": {
    "scrolled": false
   },
   "outputs": [],
   "source": [
    "ether_vol.head()"
   ]
  },
  {
   "cell_type": "code",
   "execution_count": null,
   "metadata": {
    "scrolled": true
   },
   "outputs": [],
   "source": [
    "ether_vol.info()"
   ]
  },
  {
   "cell_type": "code",
   "execution_count": 16,
   "metadata": {},
   "outputs": [],
   "source": [
    "Ether_supp = pd.read_csv('export-Ethersupply2.csv')"
   ]
  },
  {
   "cell_type": "code",
   "execution_count": null,
   "metadata": {
    "scrolled": true
   },
   "outputs": [],
   "source": [
    "Ether_supp.head()"
   ]
  },
  {
   "cell_type": "code",
   "execution_count": 18,
   "metadata": {
    "scrolled": true
   },
   "outputs": [],
   "source": [
    "ether_vol['DATE'] = pd.to_datetime(ether_vol['DATE'])"
   ]
  },
  {
   "cell_type": "code",
   "execution_count": 19,
   "metadata": {},
   "outputs": [],
   "source": [
    "Ether_supp['Date(UTC)'] = pd.to_datetime(Ether_supp['Date(UTC)'])"
   ]
  },
  {
   "cell_type": "code",
   "execution_count": 20,
   "metadata": {},
   "outputs": [],
   "source": [
    "Ether_supp = Ether_supp.rename(columns={'Date(UTC)': 'DATE'})"
   ]
  },
  {
   "cell_type": "code",
   "execution_count": null,
   "metadata": {},
   "outputs": [],
   "source": [
    "Ether_supp.head()"
   ]
  },
  {
   "cell_type": "code",
   "execution_count": null,
   "metadata": {},
   "outputs": [],
   "source": []
  },
  {
   "cell_type": "code",
   "execution_count": 22,
   "metadata": {},
   "outputs": [],
   "source": [
    "ether_vol.set_index('DATE', inplace=True) \n",
    "Ether_supp.set_index('DATE', inplace=True) "
   ]
  },
  {
   "cell_type": "code",
   "execution_count": 23,
   "metadata": {},
   "outputs": [],
   "source": [
    "test1 = ether_vol.join(Ether_supp)"
   ]
  },
  {
   "cell_type": "code",
   "execution_count": null,
   "metadata": {
    "scrolled": true
   },
   "outputs": [],
   "source": [
    "test1.head()"
   ]
  },
  {
   "cell_type": "code",
   "execution_count": null,
   "metadata": {},
   "outputs": [],
   "source": []
  },
  {
   "cell_type": "code",
   "execution_count": null,
   "metadata": {},
   "outputs": [],
   "source": []
  },
  {
   "cell_type": "code",
   "execution_count": 25,
   "metadata": {},
   "outputs": [],
   "source": [
    "test1.columns = ['OPEN', 'HIGH','LOW','CLOSE','VOLUME','MARKET_CAP','UnixTimeStamp','supply']"
   ]
  },
  {
   "cell_type": "code",
   "execution_count": null,
   "metadata": {
    "scrolled": true
   },
   "outputs": [],
   "source": [
    "test1.describe()"
   ]
  },
  {
   "cell_type": "code",
   "execution_count": 27,
   "metadata": {
    "scrolled": true
   },
   "outputs": [
    {
     "data": {
      "text/html": [
       "<div>\n",
       "<style scoped>\n",
       "    .dataframe tbody tr th:only-of-type {\n",
       "        vertical-align: middle;\n",
       "    }\n",
       "\n",
       "    .dataframe tbody tr th {\n",
       "        vertical-align: top;\n",
       "    }\n",
       "\n",
       "    .dataframe thead th {\n",
       "        text-align: right;\n",
       "    }\n",
       "</style>\n",
       "<table border=\"1\" class=\"dataframe\">\n",
       "  <thead>\n",
       "    <tr style=\"text-align: right;\">\n",
       "      <th></th>\n",
       "      <th>UnixTimeStamp</th>\n",
       "      <th>supply</th>\n",
       "    </tr>\n",
       "  </thead>\n",
       "  <tbody>\n",
       "    <tr>\n",
       "      <th>UnixTimeStamp</th>\n",
       "      <td>1.000000</td>\n",
       "      <td>0.992276</td>\n",
       "    </tr>\n",
       "    <tr>\n",
       "      <th>supply</th>\n",
       "      <td>0.992276</td>\n",
       "      <td>1.000000</td>\n",
       "    </tr>\n",
       "  </tbody>\n",
       "</table>\n",
       "</div>"
      ],
      "text/plain": [
       "               UnixTimeStamp    supply\n",
       "UnixTimeStamp       1.000000  0.992276\n",
       "supply              0.992276  1.000000"
      ]
     },
     "execution_count": 27,
     "metadata": {},
     "output_type": "execute_result"
    }
   ],
   "source": [
    "test1.corr()"
   ]
  },
  {
   "cell_type": "code",
   "execution_count": 28,
   "metadata": {},
   "outputs": [
    {
     "data": {
      "text/plain": [
       "str"
      ]
     },
     "execution_count": 28,
     "metadata": {},
     "output_type": "execute_result"
    }
   ],
   "source": [
    "type(test1.loc['2019-10-01','OPEN'].values[0])"
   ]
  },
  {
   "cell_type": "code",
   "execution_count": null,
   "metadata": {
    "scrolled": true
   },
   "outputs": [],
   "source": [
    "test1"
   ]
  },
  {
   "cell_type": "markdown",
   "metadata": {},
   "source": [
    "## inserting more data "
   ]
  },
  {
   "cell_type": "code",
   "execution_count": null,
   "metadata": {},
   "outputs": [],
   "source": [
    "pwd \n"
   ]
  },
  {
   "cell_type": "code",
   "execution_count": 31,
   "metadata": {},
   "outputs": [],
   "source": [
    "# load the data \n",
    "trans_fee = pd.read_csv('export-TransactionFee.csv')\n",
    "block_rwar = pd.read_csv('blockreward.csv')\n",
    "netwrk_utz = pd.read_csv('export-NetworkUtilization.csv')\n",
    "block_diff = pd.read_csv('export-BlockDifficulty.csv')"
   ]
  },
  {
   "cell_type": "code",
   "execution_count": 32,
   "metadata": {},
   "outputs": [],
   "source": [
    "#change to datetime object \n",
    "trans_fee['Date(UTC)'] = pd.to_datetime(trans_fee['Date(UTC)'])\n",
    "block_rwar['Date(UTC)'] = pd.to_datetime(block_rwar['Date(UTC)'])\n",
    "netwrk_utz['Date(UTC)'] = pd.to_datetime(netwrk_utz['Date(UTC)'])\n",
    "block_diff['Date(UTC)'] = pd.to_datetime(block_diff['Date(UTC)'])\n"
   ]
  },
  {
   "cell_type": "code",
   "execution_count": 33,
   "metadata": {},
   "outputs": [
    {
     "name": "stdout",
     "output_type": "stream",
     "text": [
      "<class 'pandas.core.frame.DataFrame'>\n",
      "RangeIndex: 1526 entries, 0 to 1525\n",
      "Data columns (total 3 columns):\n",
      "Date(UTC)        1526 non-null datetime64[ns]\n",
      "UnixTimeStamp    1526 non-null int64\n",
      "Value            1526 non-null float64\n",
      "dtypes: datetime64[ns](1), float64(1), int64(1)\n",
      "memory usage: 35.8 KB\n"
     ]
    }
   ],
   "source": [
    "#check\n",
    "block_diff.info()"
   ]
  },
  {
   "cell_type": "code",
   "execution_count": 34,
   "metadata": {},
   "outputs": [],
   "source": [
    "trans_fee = trans_fee.rename(columns={'Date(UTC)': 'DATE'})\n",
    "block_rwar = block_rwar.rename(columns={'Date(UTC)': 'DATE'})\n",
    "netwrk_utz = netwrk_utz.rename(columns={'Date(UTC)': 'DATE'})\n",
    "block_diff = block_diff.rename(columns={'Date(UTC)': 'DATE'})"
   ]
  },
  {
   "cell_type": "code",
   "execution_count": null,
   "metadata": {},
   "outputs": [],
   "source": [
    "#check\n",
    "block_diff['DATE']"
   ]
  },
  {
   "cell_type": "code",
   "execution_count": 36,
   "metadata": {},
   "outputs": [],
   "source": [
    "# set index as date \n",
    "trans_fee.set_index('DATE', inplace=True) \n",
    "block_rwar.set_index('DATE', inplace=True) \n",
    "netwrk_utz.set_index('DATE', inplace=True) \n",
    "block_diff.set_index('DATE', inplace=True) "
   ]
  },
  {
   "cell_type": "code",
   "execution_count": null,
   "metadata": {},
   "outputs": [],
   "source": []
  },
  {
   "cell_type": "code",
   "execution_count": null,
   "metadata": {
    "scrolled": true
   },
   "outputs": [],
   "source": [
    "test1"
   ]
  },
  {
   "cell_type": "code",
   "execution_count": 38,
   "metadata": {},
   "outputs": [],
   "source": [
    "del trans_fee['UnixTimeStamp']\n",
    "del block_rwar['UnixTimeStamp']\n",
    "del netwrk_utz['UnixTimeStamp']\n",
    "del block_diff['UnixTimeStamp']\n"
   ]
  },
  {
   "cell_type": "code",
   "execution_count": null,
   "metadata": {
    "scrolled": false
   },
   "outputs": [],
   "source": []
  },
  {
   "cell_type": "code",
   "execution_count": 39,
   "metadata": {},
   "outputs": [],
   "source": [
    "del test1['UnixTimeStamp']"
   ]
  },
  {
   "cell_type": "code",
   "execution_count": 40,
   "metadata": {},
   "outputs": [],
   "source": [
    "test1 = test1.join(trans_fee, how =\"left\")\n",
    "test1=test1.rename(columns = {'Value':'Transaction Fee'})"
   ]
  },
  {
   "cell_type": "code",
   "execution_count": 41,
   "metadata": {},
   "outputs": [],
   "source": [
    "test1 = test1.join(block_rwar, how =\"left\")\n",
    "test1=test1.rename(columns = {'Value':'Blockreward'})"
   ]
  },
  {
   "cell_type": "code",
   "execution_count": 42,
   "metadata": {},
   "outputs": [],
   "source": [
    "test1=test1.rename(columns = {'Value':'Blockreward'})"
   ]
  },
  {
   "cell_type": "code",
   "execution_count": null,
   "metadata": {
    "scrolled": true
   },
   "outputs": [],
   "source": [
    "test1"
   ]
  },
  {
   "cell_type": "code",
   "execution_count": 44,
   "metadata": {},
   "outputs": [],
   "source": [
    "test1 = test1.join(netwrk_utz, how =\"left\")"
   ]
  },
  {
   "cell_type": "code",
   "execution_count": 45,
   "metadata": {},
   "outputs": [],
   "source": [
    "test1=test1.rename(columns = {'Value':'Network utilization'})"
   ]
  },
  {
   "cell_type": "code",
   "execution_count": 46,
   "metadata": {},
   "outputs": [],
   "source": [
    "test1 = test1.join(block_diff, how =\"left\")"
   ]
  },
  {
   "cell_type": "code",
   "execution_count": 47,
   "metadata": {},
   "outputs": [],
   "source": [
    "test1=test1.rename(columns = {'Value':'block_difficulty'})"
   ]
  },
  {
   "cell_type": "markdown",
   "metadata": {},
   "source": [
    "## EDA"
   ]
  },
  {
   "cell_type": "code",
   "execution_count": null,
   "metadata": {},
   "outputs": [],
   "source": [
    "test1.head()"
   ]
  },
  {
   "cell_type": "code",
   "execution_count": 49,
   "metadata": {},
   "outputs": [],
   "source": [
    "missing_data = test1.isnull()"
   ]
  },
  {
   "cell_type": "code",
   "execution_count": null,
   "metadata": {},
   "outputs": [],
   "source": [
    "for column in missing_data.columns.values.tolist():\n",
    "    print(column)\n",
    "    print (missing_data[column].value_counts())\n",
    "    print(\"\")    "
   ]
  },
  {
   "cell_type": "code",
   "execution_count": null,
   "metadata": {
    "scrolled": true
   },
   "outputs": [],
   "source": [
    "test1.head(1)"
   ]
  },
  {
   "cell_type": "code",
   "execution_count": 52,
   "metadata": {},
   "outputs": [],
   "source": [
    "test2 = test1.dropna()"
   ]
  },
  {
   "cell_type": "code",
   "execution_count": null,
   "metadata": {},
   "outputs": [],
   "source": [
    "for column in test2.columns.values.tolist():\n",
    "    print(column)\n",
    "    print (missing_data[column].value_counts())\n",
    "    print(\"\")    "
   ]
  },
  {
   "cell_type": "code",
   "execution_count": null,
   "metadata": {},
   "outputs": [],
   "source": [
    "test1.loc[test1['block_difficulty'].isnull()]"
   ]
  },
  {
   "cell_type": "code",
   "execution_count": null,
   "metadata": {},
   "outputs": [],
   "source": [
    "test1.corr()"
   ]
  },
  {
   "cell_type": "code",
   "execution_count": 56,
   "metadata": {},
   "outputs": [
    {
     "data": {
      "text/plain": [
       "str"
      ]
     },
     "execution_count": 56,
     "metadata": {},
     "output_type": "execute_result"
    }
   ],
   "source": [
    "type(test1.loc['2019-10-01','OPEN'].values[0])"
   ]
  },
  {
   "cell_type": "code",
   "execution_count": 57,
   "metadata": {},
   "outputs": [
    {
     "name": "stdout",
     "output_type": "stream",
     "text": [
      "<class 'pandas.core.frame.DataFrame'>\n",
      "DatetimeIndex: 1517 entries, 2019-10-01 to 2015-08-07\n",
      "Data columns (total 11 columns):\n",
      "OPEN                   1517 non-null object\n",
      "HIGH                   1517 non-null object\n",
      "LOW                    1517 non-null object\n",
      "CLOSE                  1517 non-null object\n",
      "VOLUME                 1517 non-null object\n",
      "MARKET_CAP             1517 non-null object\n",
      "supply                 1517 non-null float64\n",
      "Transaction Fee        1517 non-null object\n",
      "Blockreward            1517 non-null float64\n",
      "Network utilization    1517 non-null float64\n",
      "block_difficulty       1517 non-null float64\n",
      "dtypes: float64(4), object(7)\n",
      "memory usage: 142.2+ KB\n"
     ]
    }
   ],
   "source": [
    "test2.info()"
   ]
  },
  {
   "cell_type": "code",
   "execution_count": 58,
   "metadata": {
    "collapsed": true
   },
   "outputs": [
    {
     "data": {
      "text/html": [
       "<div>\n",
       "<style scoped>\n",
       "    .dataframe tbody tr th:only-of-type {\n",
       "        vertical-align: middle;\n",
       "    }\n",
       "\n",
       "    .dataframe tbody tr th {\n",
       "        vertical-align: top;\n",
       "    }\n",
       "\n",
       "    .dataframe thead th {\n",
       "        text-align: right;\n",
       "    }\n",
       "</style>\n",
       "<table border=\"1\" class=\"dataframe\">\n",
       "  <thead>\n",
       "    <tr style=\"text-align: right;\">\n",
       "      <th></th>\n",
       "      <th>OPEN</th>\n",
       "      <th>HIGH</th>\n",
       "      <th>LOW</th>\n",
       "      <th>CLOSE</th>\n",
       "      <th>VOLUME</th>\n",
       "      <th>MARKET_CAP</th>\n",
       "      <th>supply</th>\n",
       "      <th>Transaction Fee</th>\n",
       "      <th>Blockreward</th>\n",
       "      <th>Network utilization</th>\n",
       "      <th>block_difficulty</th>\n",
       "    </tr>\n",
       "    <tr>\n",
       "      <th>DATE</th>\n",
       "      <th></th>\n",
       "      <th></th>\n",
       "      <th></th>\n",
       "      <th></th>\n",
       "      <th></th>\n",
       "      <th></th>\n",
       "      <th></th>\n",
       "      <th></th>\n",
       "      <th></th>\n",
       "      <th></th>\n",
       "      <th></th>\n",
       "    </tr>\n",
       "  </thead>\n",
       "  <tbody>\n",
       "    <tr>\n",
       "      <th>2019-10-01</th>\n",
       "      <td>180.21</td>\n",
       "      <td>185.05</td>\n",
       "      <td>175.81</td>\n",
       "      <td>177.34</td>\n",
       "      <td>7,676,276,225</td>\n",
       "      <td>19,148,222,892</td>\n",
       "      <td>1.079744e+08</td>\n",
       "      <td>510519279421006941765</td>\n",
       "      <td>13571.0625</td>\n",
       "      <td>0.8166</td>\n",
       "      <td>2449.823</td>\n",
       "    </tr>\n",
       "    <tr>\n",
       "      <th>2019-09-30</th>\n",
       "      <td>170.46</td>\n",
       "      <td>179.87</td>\n",
       "      <td>167.04</td>\n",
       "      <td>179.87</td>\n",
       "      <td>7,552,915,148</td>\n",
       "      <td>19,419,149,343</td>\n",
       "      <td>1.079609e+08</td>\n",
       "      <td>1014741493509434163372</td>\n",
       "      <td>13445.5625</td>\n",
       "      <td>0.9369</td>\n",
       "      <td>2461.362</td>\n",
       "    </tr>\n",
       "    <tr>\n",
       "      <th>2019-09-29</th>\n",
       "      <td>174.61</td>\n",
       "      <td>175.21</td>\n",
       "      <td>167.00</td>\n",
       "      <td>170.50</td>\n",
       "      <td>6,497,088,199</td>\n",
       "      <td>18,405,401,315</td>\n",
       "      <td>1.079474e+08</td>\n",
       "      <td>1131885866024375650266</td>\n",
       "      <td>13575.6875</td>\n",
       "      <td>0.9567</td>\n",
       "      <td>2451.547</td>\n",
       "    </tr>\n",
       "    <tr>\n",
       "      <th>2019-09-28</th>\n",
       "      <td>174.68</td>\n",
       "      <td>175.78</td>\n",
       "      <td>170.77</td>\n",
       "      <td>174.57</td>\n",
       "      <td>6,895,423,445</td>\n",
       "      <td>18,842,313,324</td>\n",
       "      <td>1.079338e+08</td>\n",
       "      <td>1214596925322569116725</td>\n",
       "      <td>13530.6875</td>\n",
       "      <td>0.9522</td>\n",
       "      <td>2475.973</td>\n",
       "    </tr>\n",
       "    <tr>\n",
       "      <th>2019-09-27</th>\n",
       "      <td>166.65</td>\n",
       "      <td>175.61</td>\n",
       "      <td>163.21</td>\n",
       "      <td>174.71</td>\n",
       "      <td>7,909,313,625</td>\n",
       "      <td>18,854,855,889</td>\n",
       "      <td>1.079203e+08</td>\n",
       "      <td>1239590123761337528692</td>\n",
       "      <td>13399.1250</td>\n",
       "      <td>0.9134</td>\n",
       "      <td>2483.532</td>\n",
       "    </tr>\n",
       "  </tbody>\n",
       "</table>\n",
       "</div>"
      ],
      "text/plain": [
       "              OPEN    HIGH     LOW   CLOSE         VOLUME      MARKET_CAP  \\\n",
       "DATE                                                                        \n",
       "2019-10-01  180.21  185.05  175.81  177.34  7,676,276,225  19,148,222,892   \n",
       "2019-09-30  170.46  179.87  167.04  179.87  7,552,915,148  19,419,149,343   \n",
       "2019-09-29  174.61  175.21  167.00  170.50  6,497,088,199  18,405,401,315   \n",
       "2019-09-28  174.68  175.78  170.77  174.57  6,895,423,445  18,842,313,324   \n",
       "2019-09-27  166.65  175.61  163.21  174.71  7,909,313,625  18,854,855,889   \n",
       "\n",
       "                  supply         Transaction Fee  Blockreward  \\\n",
       "DATE                                                            \n",
       "2019-10-01  1.079744e+08   510519279421006941765   13571.0625   \n",
       "2019-09-30  1.079609e+08  1014741493509434163372   13445.5625   \n",
       "2019-09-29  1.079474e+08  1131885866024375650266   13575.6875   \n",
       "2019-09-28  1.079338e+08  1214596925322569116725   13530.6875   \n",
       "2019-09-27  1.079203e+08  1239590123761337528692   13399.1250   \n",
       "\n",
       "            Network utilization  block_difficulty  \n",
       "DATE                                               \n",
       "2019-10-01               0.8166          2449.823  \n",
       "2019-09-30               0.9369          2461.362  \n",
       "2019-09-29               0.9567          2451.547  \n",
       "2019-09-28               0.9522          2475.973  \n",
       "2019-09-27               0.9134          2483.532  "
      ]
     },
     "execution_count": 58,
     "metadata": {},
     "output_type": "execute_result"
    }
   ],
   "source": [
    "test2.head()"
   ]
  },
  {
   "cell_type": "code",
   "execution_count": 59,
   "metadata": {
    "collapsed": true
   },
   "outputs": [
    {
     "name": "stderr",
     "output_type": "stream",
     "text": [
      "/Users/shreyakvashisht/anaconda3/lib/python3.7/site-packages/ipykernel_launcher.py:2: SettingWithCopyWarning: \n",
      "A value is trying to be set on a copy of a slice from a DataFrame.\n",
      "Try using .loc[row_indexer,col_indexer] = value instead\n",
      "\n",
      "See the caveats in the documentation: http://pandas.pydata.org/pandas-docs/stable/indexing.html#indexing-view-versus-copy\n",
      "  \n"
     ]
    }
   ],
   "source": [
    "import numpy as np \n",
    "test2['HIGH']= test2['HIGH'].apply(lambda x: round(np.float(x), 2))"
   ]
  },
  {
   "cell_type": "code",
   "execution_count": 60,
   "metadata": {},
   "outputs": [
    {
     "data": {
      "text/plain": [
       "str"
      ]
     },
     "execution_count": 60,
     "metadata": {},
     "output_type": "execute_result"
    }
   ],
   "source": [
    "type(test1.loc['2019-10-01','OPEN'].values[0])"
   ]
  },
  {
   "cell_type": "code",
   "execution_count": 61,
   "metadata": {
    "collapsed": true
   },
   "outputs": [
    {
     "data": {
      "text/html": [
       "<div>\n",
       "<style scoped>\n",
       "    .dataframe tbody tr th:only-of-type {\n",
       "        vertical-align: middle;\n",
       "    }\n",
       "\n",
       "    .dataframe tbody tr th {\n",
       "        vertical-align: top;\n",
       "    }\n",
       "\n",
       "    .dataframe thead th {\n",
       "        text-align: right;\n",
       "    }\n",
       "</style>\n",
       "<table border=\"1\" class=\"dataframe\">\n",
       "  <thead>\n",
       "    <tr style=\"text-align: right;\">\n",
       "      <th></th>\n",
       "      <th>HIGH</th>\n",
       "      <th>supply</th>\n",
       "      <th>Blockreward</th>\n",
       "      <th>Network utilization</th>\n",
       "      <th>block_difficulty</th>\n",
       "    </tr>\n",
       "  </thead>\n",
       "  <tbody>\n",
       "    <tr>\n",
       "      <th>HIGH</th>\n",
       "      <td>1.000000</td>\n",
       "      <td>0.491220</td>\n",
       "      <td>-0.454497</td>\n",
       "      <td>0.691671</td>\n",
       "      <td>0.665436</td>\n",
       "    </tr>\n",
       "    <tr>\n",
       "      <th>supply</th>\n",
       "      <td>0.491220</td>\n",
       "      <td>1.000000</td>\n",
       "      <td>-0.800398</td>\n",
       "      <td>0.907488</td>\n",
       "      <td>0.839891</td>\n",
       "    </tr>\n",
       "    <tr>\n",
       "      <th>Blockreward</th>\n",
       "      <td>-0.454497</td>\n",
       "      <td>-0.800398</td>\n",
       "      <td>1.000000</td>\n",
       "      <td>-0.863434</td>\n",
       "      <td>-0.788653</td>\n",
       "    </tr>\n",
       "    <tr>\n",
       "      <th>Network utilization</th>\n",
       "      <td>0.691671</td>\n",
       "      <td>0.907488</td>\n",
       "      <td>-0.863434</td>\n",
       "      <td>1.000000</td>\n",
       "      <td>0.927747</td>\n",
       "    </tr>\n",
       "    <tr>\n",
       "      <th>block_difficulty</th>\n",
       "      <td>0.665436</td>\n",
       "      <td>0.839891</td>\n",
       "      <td>-0.788653</td>\n",
       "      <td>0.927747</td>\n",
       "      <td>1.000000</td>\n",
       "    </tr>\n",
       "  </tbody>\n",
       "</table>\n",
       "</div>"
      ],
      "text/plain": [
       "                         HIGH    supply  Blockreward  Network utilization  \\\n",
       "HIGH                 1.000000  0.491220    -0.454497             0.691671   \n",
       "supply               0.491220  1.000000    -0.800398             0.907488   \n",
       "Blockreward         -0.454497 -0.800398     1.000000            -0.863434   \n",
       "Network utilization  0.691671  0.907488    -0.863434             1.000000   \n",
       "block_difficulty     0.665436  0.839891    -0.788653             0.927747   \n",
       "\n",
       "                     block_difficulty  \n",
       "HIGH                         0.665436  \n",
       "supply                       0.839891  \n",
       "Blockreward                 -0.788653  \n",
       "Network utilization          0.927747  \n",
       "block_difficulty             1.000000  "
      ]
     },
     "execution_count": 61,
     "metadata": {},
     "output_type": "execute_result"
    }
   ],
   "source": [
    "test2.corr()"
   ]
  },
  {
   "cell_type": "code",
   "execution_count": 62,
   "metadata": {
    "collapsed": true
   },
   "outputs": [
    {
     "name": "stderr",
     "output_type": "stream",
     "text": [
      "/Users/shreyakvashisht/anaconda3/lib/python3.7/site-packages/ipykernel_launcher.py:1: SettingWithCopyWarning: \n",
      "A value is trying to be set on a copy of a slice from a DataFrame.\n",
      "Try using .loc[row_indexer,col_indexer] = value instead\n",
      "\n",
      "See the caveats in the documentation: http://pandas.pydata.org/pandas-docs/stable/indexing.html#indexing-view-versus-copy\n",
      "  \"\"\"Entry point for launching an IPython kernel.\n"
     ]
    }
   ],
   "source": [
    "test2['OPEN']= test2['OPEN'].apply(lambda x: round(np.float(x), 2))"
   ]
  },
  {
   "cell_type": "code",
   "execution_count": 63,
   "metadata": {
    "collapsed": true
   },
   "outputs": [
    {
     "data": {
      "text/html": [
       "<div>\n",
       "<style scoped>\n",
       "    .dataframe tbody tr th:only-of-type {\n",
       "        vertical-align: middle;\n",
       "    }\n",
       "\n",
       "    .dataframe tbody tr th {\n",
       "        vertical-align: top;\n",
       "    }\n",
       "\n",
       "    .dataframe thead th {\n",
       "        text-align: right;\n",
       "    }\n",
       "</style>\n",
       "<table border=\"1\" class=\"dataframe\">\n",
       "  <thead>\n",
       "    <tr style=\"text-align: right;\">\n",
       "      <th></th>\n",
       "      <th>OPEN</th>\n",
       "      <th>HIGH</th>\n",
       "      <th>supply</th>\n",
       "      <th>Blockreward</th>\n",
       "      <th>Network utilization</th>\n",
       "      <th>block_difficulty</th>\n",
       "    </tr>\n",
       "  </thead>\n",
       "  <tbody>\n",
       "    <tr>\n",
       "      <th>OPEN</th>\n",
       "      <td>1.000000</td>\n",
       "      <td>0.998634</td>\n",
       "      <td>0.497073</td>\n",
       "      <td>-0.460191</td>\n",
       "      <td>0.696598</td>\n",
       "      <td>0.674776</td>\n",
       "    </tr>\n",
       "    <tr>\n",
       "      <th>HIGH</th>\n",
       "      <td>0.998634</td>\n",
       "      <td>1.000000</td>\n",
       "      <td>0.491220</td>\n",
       "      <td>-0.454497</td>\n",
       "      <td>0.691671</td>\n",
       "      <td>0.665436</td>\n",
       "    </tr>\n",
       "    <tr>\n",
       "      <th>supply</th>\n",
       "      <td>0.497073</td>\n",
       "      <td>0.491220</td>\n",
       "      <td>1.000000</td>\n",
       "      <td>-0.800398</td>\n",
       "      <td>0.907488</td>\n",
       "      <td>0.839891</td>\n",
       "    </tr>\n",
       "    <tr>\n",
       "      <th>Blockreward</th>\n",
       "      <td>-0.460191</td>\n",
       "      <td>-0.454497</td>\n",
       "      <td>-0.800398</td>\n",
       "      <td>1.000000</td>\n",
       "      <td>-0.863434</td>\n",
       "      <td>-0.788653</td>\n",
       "    </tr>\n",
       "    <tr>\n",
       "      <th>Network utilization</th>\n",
       "      <td>0.696598</td>\n",
       "      <td>0.691671</td>\n",
       "      <td>0.907488</td>\n",
       "      <td>-0.863434</td>\n",
       "      <td>1.000000</td>\n",
       "      <td>0.927747</td>\n",
       "    </tr>\n",
       "    <tr>\n",
       "      <th>block_difficulty</th>\n",
       "      <td>0.674776</td>\n",
       "      <td>0.665436</td>\n",
       "      <td>0.839891</td>\n",
       "      <td>-0.788653</td>\n",
       "      <td>0.927747</td>\n",
       "      <td>1.000000</td>\n",
       "    </tr>\n",
       "  </tbody>\n",
       "</table>\n",
       "</div>"
      ],
      "text/plain": [
       "                         OPEN      HIGH    supply  Blockreward  \\\n",
       "OPEN                 1.000000  0.998634  0.497073    -0.460191   \n",
       "HIGH                 0.998634  1.000000  0.491220    -0.454497   \n",
       "supply               0.497073  0.491220  1.000000    -0.800398   \n",
       "Blockreward         -0.460191 -0.454497 -0.800398     1.000000   \n",
       "Network utilization  0.696598  0.691671  0.907488    -0.863434   \n",
       "block_difficulty     0.674776  0.665436  0.839891    -0.788653   \n",
       "\n",
       "                     Network utilization  block_difficulty  \n",
       "OPEN                            0.696598          0.674776  \n",
       "HIGH                            0.691671          0.665436  \n",
       "supply                          0.907488          0.839891  \n",
       "Blockreward                    -0.863434         -0.788653  \n",
       "Network utilization             1.000000          0.927747  \n",
       "block_difficulty                0.927747          1.000000  "
      ]
     },
     "execution_count": 63,
     "metadata": {},
     "output_type": "execute_result"
    }
   ],
   "source": [
    "test2.corr()"
   ]
  },
  {
   "cell_type": "code",
   "execution_count": 64,
   "metadata": {
    "collapsed": true
   },
   "outputs": [
    {
     "name": "stderr",
     "output_type": "stream",
     "text": [
      "/Users/shreyakvashisht/anaconda3/lib/python3.7/site-packages/ipykernel_launcher.py:1: SettingWithCopyWarning: \n",
      "A value is trying to be set on a copy of a slice from a DataFrame.\n",
      "Try using .loc[row_indexer,col_indexer] = value instead\n",
      "\n",
      "See the caveats in the documentation: http://pandas.pydata.org/pandas-docs/stable/indexing.html#indexing-view-versus-copy\n",
      "  \"\"\"Entry point for launching an IPython kernel.\n"
     ]
    }
   ],
   "source": [
    "test2['LOW']= test2['LOW'].apply(lambda x: round(np.float(x), 2))"
   ]
  },
  {
   "cell_type": "code",
   "execution_count": 65,
   "metadata": {
    "collapsed": true
   },
   "outputs": [
    {
     "name": "stderr",
     "output_type": "stream",
     "text": [
      "/Users/shreyakvashisht/anaconda3/lib/python3.7/site-packages/ipykernel_launcher.py:1: SettingWithCopyWarning: \n",
      "A value is trying to be set on a copy of a slice from a DataFrame.\n",
      "Try using .loc[row_indexer,col_indexer] = value instead\n",
      "\n",
      "See the caveats in the documentation: http://pandas.pydata.org/pandas-docs/stable/indexing.html#indexing-view-versus-copy\n",
      "  \"\"\"Entry point for launching an IPython kernel.\n"
     ]
    }
   ],
   "source": [
    "test2['CLOSE']= test2['CLOSE'].apply(lambda x: round(np.float(x), 2))"
   ]
  },
  {
   "cell_type": "code",
   "execution_count": 66,
   "metadata": {
    "collapsed": true
   },
   "outputs": [
    {
     "name": "stderr",
     "output_type": "stream",
     "text": [
      "/Users/shreyakvashisht/anaconda3/lib/python3.7/site-packages/ipykernel_launcher.py:1: SettingWithCopyWarning: \n",
      "A value is trying to be set on a copy of a slice from a DataFrame.\n",
      "Try using .loc[row_indexer,col_indexer] = value instead\n",
      "\n",
      "See the caveats in the documentation: http://pandas.pydata.org/pandas-docs/stable/indexing.html#indexing-view-versus-copy\n",
      "  \"\"\"Entry point for launching an IPython kernel.\n"
     ]
    }
   ],
   "source": [
    "test2['VOLUME']= test2['VOLUME'].apply(lambda x: x.replace(',', ''))\n",
    "\n"
   ]
  },
  {
   "cell_type": "code",
   "execution_count": 67,
   "metadata": {
    "collapsed": true
   },
   "outputs": [
    {
     "name": "stderr",
     "output_type": "stream",
     "text": [
      "/Users/shreyakvashisht/anaconda3/lib/python3.7/site-packages/ipykernel_launcher.py:1: SettingWithCopyWarning: \n",
      "A value is trying to be set on a copy of a slice from a DataFrame.\n",
      "Try using .loc[row_indexer,col_indexer] = value instead\n",
      "\n",
      "See the caveats in the documentation: http://pandas.pydata.org/pandas-docs/stable/indexing.html#indexing-view-versus-copy\n",
      "  \"\"\"Entry point for launching an IPython kernel.\n"
     ]
    }
   ],
   "source": [
    "test2['VOLUME']= test2['VOLUME'].apply(lambda x: round(np.float(x), 2))"
   ]
  },
  {
   "cell_type": "code",
   "execution_count": 68,
   "metadata": {
    "collapsed": true
   },
   "outputs": [
    {
     "name": "stderr",
     "output_type": "stream",
     "text": [
      "/Users/shreyakvashisht/anaconda3/lib/python3.7/site-packages/ipykernel_launcher.py:1: SettingWithCopyWarning: \n",
      "A value is trying to be set on a copy of a slice from a DataFrame.\n",
      "Try using .loc[row_indexer,col_indexer] = value instead\n",
      "\n",
      "See the caveats in the documentation: http://pandas.pydata.org/pandas-docs/stable/indexing.html#indexing-view-versus-copy\n",
      "  \"\"\"Entry point for launching an IPython kernel.\n"
     ]
    }
   ],
   "source": [
    "test2['MARKET_CAP']= str(test2['MARKET_CAP'])"
   ]
  },
  {
   "cell_type": "code",
   "execution_count": 69,
   "metadata": {
    "collapsed": true
   },
   "outputs": [
    {
     "name": "stderr",
     "output_type": "stream",
     "text": [
      "/Users/shreyakvashisht/anaconda3/lib/python3.7/site-packages/ipykernel_launcher.py:1: SettingWithCopyWarning: \n",
      "A value is trying to be set on a copy of a slice from a DataFrame.\n",
      "Try using .loc[row_indexer,col_indexer] = value instead\n",
      "\n",
      "See the caveats in the documentation: http://pandas.pydata.org/pandas-docs/stable/indexing.html#indexing-view-versus-copy\n",
      "  \"\"\"Entry point for launching an IPython kernel.\n"
     ]
    },
    {
     "data": {
      "text/plain": [
       "DATE\n",
       "2019-10-01    DATE\\n2019-10-01    19148222892\\n2019-09-30   ...\n",
       "2019-09-30    DATE\\n2019-10-01    19148222892\\n2019-09-30   ...\n",
       "2019-09-29    DATE\\n2019-10-01    19148222892\\n2019-09-30   ...\n",
       "2019-09-28    DATE\\n2019-10-01    19148222892\\n2019-09-30   ...\n",
       "2019-09-27    DATE\\n2019-10-01    19148222892\\n2019-09-30   ...\n",
       "2019-09-26    DATE\\n2019-10-01    19148222892\\n2019-09-30   ...\n",
       "2019-09-25    DATE\\n2019-10-01    19148222892\\n2019-09-30   ...\n",
       "2019-09-24    DATE\\n2019-10-01    19148222892\\n2019-09-30   ...\n",
       "2019-09-23    DATE\\n2019-10-01    19148222892\\n2019-09-30   ...\n",
       "2019-09-22    DATE\\n2019-10-01    19148222892\\n2019-09-30   ...\n",
       "2019-09-21    DATE\\n2019-10-01    19148222892\\n2019-09-30   ...\n",
       "2019-09-20    DATE\\n2019-10-01    19148222892\\n2019-09-30   ...\n",
       "2019-09-19    DATE\\n2019-10-01    19148222892\\n2019-09-30   ...\n",
       "2019-09-18    DATE\\n2019-10-01    19148222892\\n2019-09-30   ...\n",
       "2019-09-17    DATE\\n2019-10-01    19148222892\\n2019-09-30   ...\n",
       "2019-09-16    DATE\\n2019-10-01    19148222892\\n2019-09-30   ...\n",
       "2019-09-15    DATE\\n2019-10-01    19148222892\\n2019-09-30   ...\n",
       "2019-09-14    DATE\\n2019-10-01    19148222892\\n2019-09-30   ...\n",
       "2019-09-13    DATE\\n2019-10-01    19148222892\\n2019-09-30   ...\n",
       "2019-09-12    DATE\\n2019-10-01    19148222892\\n2019-09-30   ...\n",
       "2019-09-11    DATE\\n2019-10-01    19148222892\\n2019-09-30   ...\n",
       "2019-09-10    DATE\\n2019-10-01    19148222892\\n2019-09-30   ...\n",
       "2019-09-09    DATE\\n2019-10-01    19148222892\\n2019-09-30   ...\n",
       "2019-09-08    DATE\\n2019-10-01    19148222892\\n2019-09-30   ...\n",
       "2019-09-07    DATE\\n2019-10-01    19148222892\\n2019-09-30   ...\n",
       "2019-09-06    DATE\\n2019-10-01    19148222892\\n2019-09-30   ...\n",
       "2019-09-05    DATE\\n2019-10-01    19148222892\\n2019-09-30   ...\n",
       "2019-09-04    DATE\\n2019-10-01    19148222892\\n2019-09-30   ...\n",
       "2019-09-03    DATE\\n2019-10-01    19148222892\\n2019-09-30   ...\n",
       "2019-09-02    DATE\\n2019-10-01    19148222892\\n2019-09-30   ...\n",
       "                                    ...                        \n",
       "2015-09-05    DATE\\n2019-10-01    19148222892\\n2019-09-30   ...\n",
       "2015-09-04    DATE\\n2019-10-01    19148222892\\n2019-09-30   ...\n",
       "2015-09-03    DATE\\n2019-10-01    19148222892\\n2019-09-30   ...\n",
       "2015-09-02    DATE\\n2019-10-01    19148222892\\n2019-09-30   ...\n",
       "2015-09-01    DATE\\n2019-10-01    19148222892\\n2019-09-30   ...\n",
       "2015-08-31    DATE\\n2019-10-01    19148222892\\n2019-09-30   ...\n",
       "2015-08-30    DATE\\n2019-10-01    19148222892\\n2019-09-30   ...\n",
       "2015-08-29    DATE\\n2019-10-01    19148222892\\n2019-09-30   ...\n",
       "2015-08-28    DATE\\n2019-10-01    19148222892\\n2019-09-30   ...\n",
       "2015-08-27    DATE\\n2019-10-01    19148222892\\n2019-09-30   ...\n",
       "2015-08-26    DATE\\n2019-10-01    19148222892\\n2019-09-30   ...\n",
       "2015-08-25    DATE\\n2019-10-01    19148222892\\n2019-09-30   ...\n",
       "2015-08-24    DATE\\n2019-10-01    19148222892\\n2019-09-30   ...\n",
       "2015-08-23    DATE\\n2019-10-01    19148222892\\n2019-09-30   ...\n",
       "2015-08-22    DATE\\n2019-10-01    19148222892\\n2019-09-30   ...\n",
       "2015-08-21    DATE\\n2019-10-01    19148222892\\n2019-09-30   ...\n",
       "2015-08-20    DATE\\n2019-10-01    19148222892\\n2019-09-30   ...\n",
       "2015-08-19    DATE\\n2019-10-01    19148222892\\n2019-09-30   ...\n",
       "2015-08-18    DATE\\n2019-10-01    19148222892\\n2019-09-30   ...\n",
       "2015-08-17    DATE\\n2019-10-01    19148222892\\n2019-09-30   ...\n",
       "2015-08-16    DATE\\n2019-10-01    19148222892\\n2019-09-30   ...\n",
       "2015-08-15    DATE\\n2019-10-01    19148222892\\n2019-09-30   ...\n",
       "2015-08-14    DATE\\n2019-10-01    19148222892\\n2019-09-30   ...\n",
       "2015-08-13    DATE\\n2019-10-01    19148222892\\n2019-09-30   ...\n",
       "2015-08-12    DATE\\n2019-10-01    19148222892\\n2019-09-30   ...\n",
       "2015-08-11    DATE\\n2019-10-01    19148222892\\n2019-09-30   ...\n",
       "2015-08-10    DATE\\n2019-10-01    19148222892\\n2019-09-30   ...\n",
       "2015-08-09    DATE\\n2019-10-01    19148222892\\n2019-09-30   ...\n",
       "2015-08-08    DATE\\n2019-10-01    19148222892\\n2019-09-30   ...\n",
       "2015-08-07    DATE\\n2019-10-01    19148222892\\n2019-09-30   ...\n",
       "Name: MARKET_CAP, Length: 1517, dtype: object"
      ]
     },
     "execution_count": 69,
     "metadata": {},
     "output_type": "execute_result"
    }
   ],
   "source": [
    "test2['MARKET_CAP']= test2['MARKET_CAP'].apply(lambda x: x.replace(',', ''))\n",
    "test2['MARKET_CAP']"
   ]
  },
  {
   "cell_type": "code",
   "execution_count": 70,
   "metadata": {},
   "outputs": [
    {
     "data": {
      "text/plain": [
       "dtype('O')"
      ]
     },
     "execution_count": 70,
     "metadata": {},
     "output_type": "execute_result"
    }
   ],
   "source": [
    "test2['MARKET_CAP'].dtype"
   ]
  },
  {
   "cell_type": "code",
   "execution_count": 71,
   "metadata": {
    "collapsed": true
   },
   "outputs": [
    {
     "name": "stderr",
     "output_type": "stream",
     "text": [
      "/Users/shreyakvashisht/anaconda3/lib/python3.7/site-packages/ipykernel_launcher.py:1: SettingWithCopyWarning: \n",
      "A value is trying to be set on a copy of a slice from a DataFrame.\n",
      "Try using .loc[row_indexer,col_indexer] = value instead\n",
      "\n",
      "See the caveats in the documentation: http://pandas.pydata.org/pandas-docs/stable/indexing.html#indexing-view-versus-copy\n",
      "  \"\"\"Entry point for launching an IPython kernel.\n"
     ]
    }
   ],
   "source": [
    "test2['Transaction Fee']= test2['Transaction Fee'].apply(lambda x: round(np.float(x), 2))"
   ]
  },
  {
   "cell_type": "code",
   "execution_count": 72,
   "metadata": {},
   "outputs": [
    {
     "data": {
      "text/html": [
       "<div>\n",
       "<style scoped>\n",
       "    .dataframe tbody tr th:only-of-type {\n",
       "        vertical-align: middle;\n",
       "    }\n",
       "\n",
       "    .dataframe tbody tr th {\n",
       "        vertical-align: top;\n",
       "    }\n",
       "\n",
       "    .dataframe thead th {\n",
       "        text-align: right;\n",
       "    }\n",
       "</style>\n",
       "<table border=\"1\" class=\"dataframe\">\n",
       "  <thead>\n",
       "    <tr style=\"text-align: right;\">\n",
       "      <th></th>\n",
       "      <th>OPEN</th>\n",
       "      <th>HIGH</th>\n",
       "      <th>LOW</th>\n",
       "      <th>CLOSE</th>\n",
       "      <th>VOLUME</th>\n",
       "      <th>supply</th>\n",
       "      <th>Transaction Fee</th>\n",
       "      <th>Blockreward</th>\n",
       "      <th>Network utilization</th>\n",
       "      <th>block_difficulty</th>\n",
       "    </tr>\n",
       "  </thead>\n",
       "  <tbody>\n",
       "    <tr>\n",
       "      <th>OPEN</th>\n",
       "      <td>1.000000</td>\n",
       "      <td>0.998634</td>\n",
       "      <td>0.996670</td>\n",
       "      <td>0.996653</td>\n",
       "      <td>0.352923</td>\n",
       "      <td>0.497073</td>\n",
       "      <td>0.642514</td>\n",
       "      <td>-0.460191</td>\n",
       "      <td>0.696598</td>\n",
       "      <td>0.674776</td>\n",
       "    </tr>\n",
       "    <tr>\n",
       "      <th>HIGH</th>\n",
       "      <td>0.998634</td>\n",
       "      <td>1.000000</td>\n",
       "      <td>0.996688</td>\n",
       "      <td>0.998540</td>\n",
       "      <td>0.355449</td>\n",
       "      <td>0.491220</td>\n",
       "      <td>0.647894</td>\n",
       "      <td>-0.454497</td>\n",
       "      <td>0.691671</td>\n",
       "      <td>0.665436</td>\n",
       "    </tr>\n",
       "    <tr>\n",
       "      <th>LOW</th>\n",
       "      <td>0.996670</td>\n",
       "      <td>0.996688</td>\n",
       "      <td>1.000000</td>\n",
       "      <td>0.998081</td>\n",
       "      <td>0.350380</td>\n",
       "      <td>0.504750</td>\n",
       "      <td>0.640257</td>\n",
       "      <td>-0.468066</td>\n",
       "      <td>0.703326</td>\n",
       "      <td>0.682921</td>\n",
       "    </tr>\n",
       "    <tr>\n",
       "      <th>CLOSE</th>\n",
       "      <td>0.996653</td>\n",
       "      <td>0.998540</td>\n",
       "      <td>0.998081</td>\n",
       "      <td>1.000000</td>\n",
       "      <td>0.353689</td>\n",
       "      <td>0.496471</td>\n",
       "      <td>0.644508</td>\n",
       "      <td>-0.460001</td>\n",
       "      <td>0.696466</td>\n",
       "      <td>0.671477</td>\n",
       "    </tr>\n",
       "    <tr>\n",
       "      <th>VOLUME</th>\n",
       "      <td>0.352923</td>\n",
       "      <td>0.355449</td>\n",
       "      <td>0.350380</td>\n",
       "      <td>0.353689</td>\n",
       "      <td>1.000000</td>\n",
       "      <td>0.707610</td>\n",
       "      <td>0.434207</td>\n",
       "      <td>-0.755768</td>\n",
       "      <td>0.672350</td>\n",
       "      <td>0.491877</td>\n",
       "    </tr>\n",
       "    <tr>\n",
       "      <th>supply</th>\n",
       "      <td>0.497073</td>\n",
       "      <td>0.491220</td>\n",
       "      <td>0.504750</td>\n",
       "      <td>0.496471</td>\n",
       "      <td>0.707610</td>\n",
       "      <td>1.000000</td>\n",
       "      <td>0.489260</td>\n",
       "      <td>-0.800398</td>\n",
       "      <td>0.907488</td>\n",
       "      <td>0.839891</td>\n",
       "    </tr>\n",
       "    <tr>\n",
       "      <th>Transaction Fee</th>\n",
       "      <td>0.642514</td>\n",
       "      <td>0.647894</td>\n",
       "      <td>0.640257</td>\n",
       "      <td>0.644508</td>\n",
       "      <td>0.434207</td>\n",
       "      <td>0.489260</td>\n",
       "      <td>1.000000</td>\n",
       "      <td>-0.460553</td>\n",
       "      <td>0.635828</td>\n",
       "      <td>0.543271</td>\n",
       "    </tr>\n",
       "    <tr>\n",
       "      <th>Blockreward</th>\n",
       "      <td>-0.460191</td>\n",
       "      <td>-0.454497</td>\n",
       "      <td>-0.468066</td>\n",
       "      <td>-0.460001</td>\n",
       "      <td>-0.755768</td>\n",
       "      <td>-0.800398</td>\n",
       "      <td>-0.460553</td>\n",
       "      <td>1.000000</td>\n",
       "      <td>-0.863434</td>\n",
       "      <td>-0.788653</td>\n",
       "    </tr>\n",
       "    <tr>\n",
       "      <th>Network utilization</th>\n",
       "      <td>0.696598</td>\n",
       "      <td>0.691671</td>\n",
       "      <td>0.703326</td>\n",
       "      <td>0.696466</td>\n",
       "      <td>0.672350</td>\n",
       "      <td>0.907488</td>\n",
       "      <td>0.635828</td>\n",
       "      <td>-0.863434</td>\n",
       "      <td>1.000000</td>\n",
       "      <td>0.927747</td>\n",
       "    </tr>\n",
       "    <tr>\n",
       "      <th>block_difficulty</th>\n",
       "      <td>0.674776</td>\n",
       "      <td>0.665436</td>\n",
       "      <td>0.682921</td>\n",
       "      <td>0.671477</td>\n",
       "      <td>0.491877</td>\n",
       "      <td>0.839891</td>\n",
       "      <td>0.543271</td>\n",
       "      <td>-0.788653</td>\n",
       "      <td>0.927747</td>\n",
       "      <td>1.000000</td>\n",
       "    </tr>\n",
       "  </tbody>\n",
       "</table>\n",
       "</div>"
      ],
      "text/plain": [
       "                         OPEN      HIGH       LOW     CLOSE    VOLUME  \\\n",
       "OPEN                 1.000000  0.998634  0.996670  0.996653  0.352923   \n",
       "HIGH                 0.998634  1.000000  0.996688  0.998540  0.355449   \n",
       "LOW                  0.996670  0.996688  1.000000  0.998081  0.350380   \n",
       "CLOSE                0.996653  0.998540  0.998081  1.000000  0.353689   \n",
       "VOLUME               0.352923  0.355449  0.350380  0.353689  1.000000   \n",
       "supply               0.497073  0.491220  0.504750  0.496471  0.707610   \n",
       "Transaction Fee      0.642514  0.647894  0.640257  0.644508  0.434207   \n",
       "Blockreward         -0.460191 -0.454497 -0.468066 -0.460001 -0.755768   \n",
       "Network utilization  0.696598  0.691671  0.703326  0.696466  0.672350   \n",
       "block_difficulty     0.674776  0.665436  0.682921  0.671477  0.491877   \n",
       "\n",
       "                       supply  Transaction Fee  Blockreward  \\\n",
       "OPEN                 0.497073         0.642514    -0.460191   \n",
       "HIGH                 0.491220         0.647894    -0.454497   \n",
       "LOW                  0.504750         0.640257    -0.468066   \n",
       "CLOSE                0.496471         0.644508    -0.460001   \n",
       "VOLUME               0.707610         0.434207    -0.755768   \n",
       "supply               1.000000         0.489260    -0.800398   \n",
       "Transaction Fee      0.489260         1.000000    -0.460553   \n",
       "Blockreward         -0.800398        -0.460553     1.000000   \n",
       "Network utilization  0.907488         0.635828    -0.863434   \n",
       "block_difficulty     0.839891         0.543271    -0.788653   \n",
       "\n",
       "                     Network utilization  block_difficulty  \n",
       "OPEN                            0.696598          0.674776  \n",
       "HIGH                            0.691671          0.665436  \n",
       "LOW                             0.703326          0.682921  \n",
       "CLOSE                           0.696466          0.671477  \n",
       "VOLUME                          0.672350          0.491877  \n",
       "supply                          0.907488          0.839891  \n",
       "Transaction Fee                 0.635828          0.543271  \n",
       "Blockreward                    -0.863434         -0.788653  \n",
       "Network utilization             1.000000          0.927747  \n",
       "block_difficulty                0.927747          1.000000  "
      ]
     },
     "execution_count": 72,
     "metadata": {},
     "output_type": "execute_result"
    }
   ],
   "source": [
    "test2.corr()"
   ]
  },
  {
   "cell_type": "code",
   "execution_count": 73,
   "metadata": {},
   "outputs": [],
   "source": [
    "import pandas as pd\n",
    "import numpy as np\n",
    "import statsmodels.api as sm\n",
    "import statsmodels.formula.api as smf\n",
    "import patsy\n",
    "\n",
    "import seaborn as sns\n",
    "import matplotlib.pyplot as plt\n",
    "from sklearn.linear_model import LinearRegression\n",
    "from sklearn.linear_model import RidgeCV\n",
    "%matplotlib inline"
   ]
  },
  {
   "cell_type": "markdown",
   "metadata": {},
   "source": [
    "## INITIAL MODELLING "
   ]
  },
  {
   "cell_type": "code",
   "execution_count": 74,
   "metadata": {},
   "outputs": [
    {
     "data": {
      "image/png": "[encoded data removed]",
      "text/plain": [
       "<Figure size 432x288 with 2 Axes>"
      ]
     },
     "metadata": {
      "needs_background": "light"
     },
     "output_type": "display_data"
    }
   ],
   "source": [
    "sns.heatmap(test2.corr(), cmap=\"seismic\", annot=True, vmin=-1, vmax=1);"
   ]
  },
  {
   "cell_type": "code",
   "execution_count": 75,
   "metadata": {
    "collapsed": true
   },
   "outputs": [
    {
     "data": {
      "text/plain": [
       "DATE\n",
       "2019-10-01    0.8166\n",
       "2019-09-30    0.9369\n",
       "2019-09-29    0.9567\n",
       "2019-09-28    0.9522\n",
       "2019-09-27    0.9134\n",
       "2019-09-26    0.9131\n",
       "2019-09-25    0.9428\n",
       "2019-09-24    0.9531\n",
       "2019-09-23    0.9549\n",
       "2019-09-22    0.9386\n",
       "2019-09-21    0.9530\n",
       "2019-09-20    0.9492\n",
       "2019-09-19    0.9456\n",
       "2019-09-18    0.9463\n",
       "2019-09-17    0.9504\n",
       "2019-09-16    0.9542\n",
       "2019-09-15    0.9500\n",
       "2019-09-14    0.9418\n",
       "2019-09-13    0.9417\n",
       "2019-09-12    0.9386\n",
       "2019-09-11    0.9364\n",
       "2019-09-10    0.9405\n",
       "2019-09-09    0.9411\n",
       "2019-09-08    0.9407\n",
       "2019-09-07    0.9417\n",
       "2019-09-06    0.9474\n",
       "2019-09-05    0.9427\n",
       "2019-09-04    0.9356\n",
       "2019-09-03    0.9420\n",
       "2019-09-02    0.9328\n",
       "               ...  \n",
       "2015-09-05    0.0103\n",
       "2015-09-04    0.0120\n",
       "2015-09-03    0.0119\n",
       "2015-09-02    0.0124\n",
       "2015-09-01    0.0113\n",
       "2015-08-31    0.0100\n",
       "2015-08-30    0.0079\n",
       "2015-08-29    0.0073\n",
       "2015-08-28    0.0077\n",
       "2015-08-27    0.0100\n",
       "2015-08-26    0.0063\n",
       "2015-08-25    0.0071\n",
       "2015-08-24    0.0060\n",
       "2015-08-23    0.0075\n",
       "2015-08-22    0.0055\n",
       "2015-08-21    0.0067\n",
       "2015-08-20    0.0050\n",
       "2015-08-19    0.0056\n",
       "2015-08-18    0.0043\n",
       "2015-08-17    0.0036\n",
       "2015-08-16    0.0036\n",
       "2015-08-15    0.0035\n",
       "2015-08-14    0.0043\n",
       "2015-08-13    0.0053\n",
       "2015-08-12    0.0044\n",
       "2015-08-11    0.0099\n",
       "2015-08-10    0.0045\n",
       "2015-08-09    0.0024\n",
       "2015-08-08    0.0468\n",
       "2015-08-07    0.1317\n",
       "Name: Network utilization, Length: 1517, dtype: float64"
      ]
     },
     "execution_count": 75,
     "metadata": {},
     "output_type": "execute_result"
    }
   ],
   "source": [
    "test2['Network utilization']"
   ]
  },
  {
   "cell_type": "code",
   "execution_count": 76,
   "metadata": {},
   "outputs": [],
   "source": [
    "test2 = test2.rename(columns={'Transaction Fee': 'Transaction_Fee'})"
   ]
  },
  {
   "cell_type": "code",
   "execution_count": 77,
   "metadata": {},
   "outputs": [],
   "source": [
    "test2 = test2.rename(columns={'Network utilization': 'Network_utilizatione'})"
   ]
  },
  {
   "cell_type": "code",
   "execution_count": 78,
   "metadata": {
    "collapsed": true
   },
   "outputs": [
    {
     "data": {
      "text/html": [
       "<div>\n",
       "<style scoped>\n",
       "    .dataframe tbody tr th:only-of-type {\n",
       "        vertical-align: middle;\n",
       "    }\n",
       "\n",
       "    .dataframe tbody tr th {\n",
       "        vertical-align: top;\n",
       "    }\n",
       "\n",
       "    .dataframe thead th {\n",
       "        text-align: right;\n",
       "    }\n",
       "</style>\n",
       "<table border=\"1\" class=\"dataframe\">\n",
       "  <thead>\n",
       "    <tr style=\"text-align: right;\">\n",
       "      <th></th>\n",
       "      <th>OPEN</th>\n",
       "      <th>HIGH</th>\n",
       "      <th>LOW</th>\n",
       "      <th>CLOSE</th>\n",
       "      <th>VOLUME</th>\n",
       "      <th>supply</th>\n",
       "      <th>Transaction_Fee</th>\n",
       "      <th>Blockreward</th>\n",
       "      <th>Network_utilizatione</th>\n",
       "      <th>block_difficulty</th>\n",
       "    </tr>\n",
       "  </thead>\n",
       "  <tbody>\n",
       "    <tr>\n",
       "      <th>OPEN</th>\n",
       "      <td>1.000000</td>\n",
       "      <td>0.998634</td>\n",
       "      <td>0.996670</td>\n",
       "      <td>0.996653</td>\n",
       "      <td>0.352923</td>\n",
       "      <td>0.497073</td>\n",
       "      <td>0.642514</td>\n",
       "      <td>-0.460191</td>\n",
       "      <td>0.696598</td>\n",
       "      <td>0.674776</td>\n",
       "    </tr>\n",
       "    <tr>\n",
       "      <th>HIGH</th>\n",
       "      <td>0.998634</td>\n",
       "      <td>1.000000</td>\n",
       "      <td>0.996688</td>\n",
       "      <td>0.998540</td>\n",
       "      <td>0.355449</td>\n",
       "      <td>0.491220</td>\n",
       "      <td>0.647894</td>\n",
       "      <td>-0.454497</td>\n",
       "      <td>0.691671</td>\n",
       "      <td>0.665436</td>\n",
       "    </tr>\n",
       "    <tr>\n",
       "      <th>LOW</th>\n",
       "      <td>0.996670</td>\n",
       "      <td>0.996688</td>\n",
       "      <td>1.000000</td>\n",
       "      <td>0.998081</td>\n",
       "      <td>0.350380</td>\n",
       "      <td>0.504750</td>\n",
       "      <td>0.640257</td>\n",
       "      <td>-0.468066</td>\n",
       "      <td>0.703326</td>\n",
       "      <td>0.682921</td>\n",
       "    </tr>\n",
       "    <tr>\n",
       "      <th>CLOSE</th>\n",
       "      <td>0.996653</td>\n",
       "      <td>0.998540</td>\n",
       "      <td>0.998081</td>\n",
       "      <td>1.000000</td>\n",
       "      <td>0.353689</td>\n",
       "      <td>0.496471</td>\n",
       "      <td>0.644508</td>\n",
       "      <td>-0.460001</td>\n",
       "      <td>0.696466</td>\n",
       "      <td>0.671477</td>\n",
       "    </tr>\n",
       "    <tr>\n",
       "      <th>VOLUME</th>\n",
       "      <td>0.352923</td>\n",
       "      <td>0.355449</td>\n",
       "      <td>0.350380</td>\n",
       "      <td>0.353689</td>\n",
       "      <td>1.000000</td>\n",
       "      <td>0.707610</td>\n",
       "      <td>0.434207</td>\n",
       "      <td>-0.755768</td>\n",
       "      <td>0.672350</td>\n",
       "      <td>0.491877</td>\n",
       "    </tr>\n",
       "    <tr>\n",
       "      <th>supply</th>\n",
       "      <td>0.497073</td>\n",
       "      <td>0.491220</td>\n",
       "      <td>0.504750</td>\n",
       "      <td>0.496471</td>\n",
       "      <td>0.707610</td>\n",
       "      <td>1.000000</td>\n",
       "      <td>0.489260</td>\n",
       "      <td>-0.800398</td>\n",
       "      <td>0.907488</td>\n",
       "      <td>0.839891</td>\n",
       "    </tr>\n",
       "    <tr>\n",
       "      <th>Transaction_Fee</th>\n",
       "      <td>0.642514</td>\n",
       "      <td>0.647894</td>\n",
       "      <td>0.640257</td>\n",
       "      <td>0.644508</td>\n",
       "      <td>0.434207</td>\n",
       "      <td>0.489260</td>\n",
       "      <td>1.000000</td>\n",
       "      <td>-0.460553</td>\n",
       "      <td>0.635828</td>\n",
       "      <td>0.543271</td>\n",
       "    </tr>\n",
       "    <tr>\n",
       "      <th>Blockreward</th>\n",
       "      <td>-0.460191</td>\n",
       "      <td>-0.454497</td>\n",
       "      <td>-0.468066</td>\n",
       "      <td>-0.460001</td>\n",
       "      <td>-0.755768</td>\n",
       "      <td>-0.800398</td>\n",
       "      <td>-0.460553</td>\n",
       "      <td>1.000000</td>\n",
       "      <td>-0.863434</td>\n",
       "      <td>-0.788653</td>\n",
       "    </tr>\n",
       "    <tr>\n",
       "      <th>Network_utilizatione</th>\n",
       "      <td>0.696598</td>\n",
       "      <td>0.691671</td>\n",
       "      <td>0.703326</td>\n",
       "      <td>0.696466</td>\n",
       "      <td>0.672350</td>\n",
       "      <td>0.907488</td>\n",
       "      <td>0.635828</td>\n",
       "      <td>-0.863434</td>\n",
       "      <td>1.000000</td>\n",
       "      <td>0.927747</td>\n",
       "    </tr>\n",
       "    <tr>\n",
       "      <th>block_difficulty</th>\n",
       "      <td>0.674776</td>\n",
       "      <td>0.665436</td>\n",
       "      <td>0.682921</td>\n",
       "      <td>0.671477</td>\n",
       "      <td>0.491877</td>\n",
       "      <td>0.839891</td>\n",
       "      <td>0.543271</td>\n",
       "      <td>-0.788653</td>\n",
       "      <td>0.927747</td>\n",
       "      <td>1.000000</td>\n",
       "    </tr>\n",
       "  </tbody>\n",
       "</table>\n",
       "</div>"
      ],
      "text/plain": [
       "                          OPEN      HIGH       LOW     CLOSE    VOLUME  \\\n",
       "OPEN                  1.000000  0.998634  0.996670  0.996653  0.352923   \n",
       "HIGH                  0.998634  1.000000  0.996688  0.998540  0.355449   \n",
       "LOW                   0.996670  0.996688  1.000000  0.998081  0.350380   \n",
       "CLOSE                 0.996653  0.998540  0.998081  1.000000  0.353689   \n",
       "VOLUME                0.352923  0.355449  0.350380  0.353689  1.000000   \n",
       "supply                0.497073  0.491220  0.504750  0.496471  0.707610   \n",
       "Transaction_Fee       0.642514  0.647894  0.640257  0.644508  0.434207   \n",
       "Blockreward          -0.460191 -0.454497 -0.468066 -0.460001 -0.755768   \n",
       "Network_utilizatione  0.696598  0.691671  0.703326  0.696466  0.672350   \n",
       "block_difficulty      0.674776  0.665436  0.682921  0.671477  0.491877   \n",
       "\n",
       "                        supply  Transaction_Fee  Blockreward  \\\n",
       "OPEN                  0.497073         0.642514    -0.460191   \n",
       "HIGH                  0.491220         0.647894    -0.454497   \n",
       "LOW                   0.504750         0.640257    -0.468066   \n",
       "CLOSE                 0.496471         0.644508    -0.460001   \n",
       "VOLUME                0.707610         0.434207    -0.755768   \n",
       "supply                1.000000         0.489260    -0.800398   \n",
       "Transaction_Fee       0.489260         1.000000    -0.460553   \n",
       "Blockreward          -0.800398        -0.460553     1.000000   \n",
       "Network_utilizatione  0.907488         0.635828    -0.863434   \n",
       "block_difficulty      0.839891         0.543271    -0.788653   \n",
       "\n",
       "                      Network_utilizatione  block_difficulty  \n",
       "OPEN                              0.696598          0.674776  \n",
       "HIGH                              0.691671          0.665436  \n",
       "LOW                               0.703326          0.682921  \n",
       "CLOSE                             0.696466          0.671477  \n",
       "VOLUME                            0.672350          0.491877  \n",
       "supply                            0.907488          0.839891  \n",
       "Transaction_Fee                   0.635828          0.543271  \n",
       "Blockreward                      -0.863434         -0.788653  \n",
       "Network_utilizatione              1.000000          0.927747  \n",
       "block_difficulty                  0.927747          1.000000  "
      ]
     },
     "execution_count": 78,
     "metadata": {},
     "output_type": "execute_result"
    }
   ],
   "source": [
    "test2.corr()"
   ]
  },
  {
   "cell_type": "code",
   "execution_count": 79,
   "metadata": {},
   "outputs": [],
   "source": [
    "y, X = patsy.dmatrices('block_difficulty ~ Transaction_Fee + supply + Blockreward  ', data=test2, return_type=\"dataframe\")\n"
   ]
  },
  {
   "cell_type": "code",
   "execution_count": 80,
   "metadata": {},
   "outputs": [],
   "source": [
    "model = sm.OLS(y, X)"
   ]
  },
  {
   "cell_type": "code",
   "execution_count": 81,
   "metadata": {},
   "outputs": [],
   "source": [
    "fit = model.fit()"
   ]
  },
  {
   "cell_type": "code",
   "execution_count": 82,
   "metadata": {},
   "outputs": [
    {
     "data": {
      "text/html": [
       "<table class=\"simpletable\">\n",
       "<caption>OLS Regression Results</caption>\n",
       "<tr>\n",
       "  <th>Dep. Variable:</th>    <td>block_difficulty</td> <th>  R-squared:         </th> <td>   0.392</td> \n",
       "</tr>\n",
       "<tr>\n",
       "  <th>Model:</th>                   <td>OLS</td>       <th>  Adj. R-squared:    </th> <td>   0.392</td> \n",
       "</tr>\n",
       "<tr>\n",
       "  <th>Method:</th>             <td>Least Squares</td>  <th>  F-statistic:       </th> <td>   976.7</td> \n",
       "</tr>\n",
       "<tr>\n",
       "  <th>Date:</th>             <td>Tue, 08 Oct 2019</td> <th>  Prob (F-statistic):</th> <td>6.71e-166</td>\n",
       "</tr>\n",
       "<tr>\n",
       "  <th>Time:</th>                 <td>16:33:44</td>     <th>  Log-Likelihood:    </th> <td> -12645.</td> \n",
       "</tr>\n",
       "<tr>\n",
       "  <th>No. Observations:</th>      <td>  1517</td>      <th>  AIC:               </th> <td>2.529e+04</td>\n",
       "</tr>\n",
       "<tr>\n",
       "  <th>Df Residuals:</th>          <td>  1515</td>      <th>  BIC:               </th> <td>2.530e+04</td>\n",
       "</tr>\n",
       "<tr>\n",
       "  <th>Df Model:</th>              <td>     1</td>      <th>                     </th>     <td> </td>    \n",
       "</tr>\n",
       "<tr>\n",
       "  <th>Covariance Type:</th>      <td>nonrobust</td>    <th>                     </th>     <td> </td>    \n",
       "</tr>\n",
       "</table>\n",
       "<table class=\"simpletable\">\n",
       "<tr>\n",
       "         <td></td>            <th>coef</th>     <th>std err</th>      <th>t</th>      <th>P>|t|</th>  <th>[0.025</th>    <th>0.975]</th>  \n",
       "</tr>\n",
       "<tr>\n",
       "  <th>Intercept</th>       <td> 1.272e-13</td> <td> 3.96e-15</td> <td>   32.108</td> <td> 0.000</td> <td> 1.19e-13</td> <td> 1.35e-13</td>\n",
       "</tr>\n",
       "<tr>\n",
       "  <th>Transaction_Fee</th> <td> 1.168e-18</td> <td> 5.38e-20</td> <td>   21.715</td> <td> 0.000</td> <td> 1.06e-18</td> <td> 1.27e-18</td>\n",
       "</tr>\n",
       "<tr>\n",
       "  <th>supply</th>          <td> 1.147e-05</td> <td> 3.57e-07</td> <td>   32.108</td> <td> 0.000</td> <td> 1.08e-05</td> <td> 1.22e-05</td>\n",
       "</tr>\n",
       "<tr>\n",
       "  <th>Blockreward</th>     <td> 3.181e-09</td> <td> 9.91e-11</td> <td>   32.108</td> <td> 0.000</td> <td> 2.99e-09</td> <td> 3.38e-09</td>\n",
       "</tr>\n",
       "</table>\n",
       "<table class=\"simpletable\">\n",
       "<tr>\n",
       "  <th>Omnibus:</th>       <td>71.691</td> <th>  Durbin-Watson:     </th> <td>   0.097</td>\n",
       "</tr>\n",
       "<tr>\n",
       "  <th>Prob(Omnibus):</th> <td> 0.000</td> <th>  Jarque-Bera (JB):  </th> <td>  50.259</td>\n",
       "</tr>\n",
       "<tr>\n",
       "  <th>Skew:</th>          <td> 0.336</td> <th>  Prob(JB):          </th> <td>1.22e-11</td>\n",
       "</tr>\n",
       "<tr>\n",
       "  <th>Kurtosis:</th>      <td> 2.415</td> <th>  Cond. No.          </th> <td>1.21e+22</td>\n",
       "</tr>\n",
       "</table><br/><br/>Warnings:<br/>[1] Standard Errors assume that the covariance matrix of the errors is correctly specified.<br/>[2] The condition number is large, 1.21e+22. This might indicate that there are<br/>strong multicollinearity or other numerical problems."
      ],
      "text/plain": [
       "<class 'statsmodels.iolib.summary.Summary'>\n",
       "\"\"\"\n",
       "                            OLS Regression Results                            \n",
       "==============================================================================\n",
       "Dep. Variable:       block_difficulty   R-squared:                       0.392\n",
       "Model:                            OLS   Adj. R-squared:                  0.392\n",
       "Method:                 Least Squares   F-statistic:                     976.7\n",
       "Date:                Tue, 08 Oct 2019   Prob (F-statistic):          6.71e-166\n",
       "Time:                        16:33:44   Log-Likelihood:                -12645.\n",
       "No. Observations:                1517   AIC:                         2.529e+04\n",
       "Df Residuals:                    1515   BIC:                         2.530e+04\n",
       "Df Model:                           1                                         \n",
       "Covariance Type:            nonrobust                                         \n",
       "===================================================================================\n",
       "                      coef    std err          t      P>|t|      [0.025      0.975]\n",
       "-----------------------------------------------------------------------------------\n",
       "Intercept        1.272e-13   3.96e-15     32.108      0.000    1.19e-13    1.35e-13\n",
       "Transaction_Fee  1.168e-18   5.38e-20     21.715      0.000    1.06e-18    1.27e-18\n",
       "supply           1.147e-05   3.57e-07     32.108      0.000    1.08e-05    1.22e-05\n",
       "Blockreward      3.181e-09   9.91e-11     32.108      0.000    2.99e-09    3.38e-09\n",
       "==============================================================================\n",
       "Omnibus:                       71.691   Durbin-Watson:                   0.097\n",
       "Prob(Omnibus):                  0.000   Jarque-Bera (JB):               50.259\n",
       "Skew:                           0.336   Prob(JB):                     1.22e-11\n",
       "Kurtosis:                       2.415   Cond. No.                     1.21e+22\n",
       "==============================================================================\n",
       "\n",
       "Warnings:\n",
       "[1] Standard Errors assume that the covariance matrix of the errors is correctly specified.\n",
       "[2] The condition number is large, 1.21e+22. This might indicate that there are\n",
       "strong multicollinearity or other numerical problems.\n",
       "\"\"\""
      ]
     },
     "execution_count": 82,
     "metadata": {},
     "output_type": "execute_result"
    }
   ],
   "source": [
    "fit.summary()"
   ]
  },
  {
   "cell_type": "code",
   "execution_count": 83,
   "metadata": {},
   "outputs": [],
   "source": [
    "test2.to_pickle('cleaned_prj2.pkl')"
   ]
  },
  {
   "cell_type": "code",
   "execution_count": 84,
   "metadata": {},
   "outputs": [],
   "source": [
    "df = pd.read_pickle('cleaned_prj2.pkl')"
   ]
  },
  {
   "cell_type": "code",
   "execution_count": 85,
   "metadata": {
    "collapsed": true
   },
   "outputs": [
    {
     "data": {
      "text/html": [
       "<div>\n",
       "<style scoped>\n",
       "    .dataframe tbody tr th:only-of-type {\n",
       "        vertical-align: middle;\n",
       "    }\n",
       "\n",
       "    .dataframe tbody tr th {\n",
       "        vertical-align: top;\n",
       "    }\n",
       "\n",
       "    .dataframe thead th {\n",
       "        text-align: right;\n",
       "    }\n",
       "</style>\n",
       "<table border=\"1\" class=\"dataframe\">\n",
       "  <thead>\n",
       "    <tr style=\"text-align: right;\">\n",
       "      <th></th>\n",
       "      <th>OPEN</th>\n",
       "      <th>HIGH</th>\n",
       "      <th>LOW</th>\n",
       "      <th>CLOSE</th>\n",
       "      <th>VOLUME</th>\n",
       "      <th>MARKET_CAP</th>\n",
       "      <th>supply</th>\n",
       "      <th>Transaction_Fee</th>\n",
       "      <th>Blockreward</th>\n",
       "      <th>Network_utilizatione</th>\n",
       "      <th>block_difficulty</th>\n",
       "    </tr>\n",
       "    <tr>\n",
       "      <th>DATE</th>\n",
       "      <th></th>\n",
       "      <th></th>\n",
       "      <th></th>\n",
       "      <th></th>\n",
       "      <th></th>\n",
       "      <th></th>\n",
       "      <th></th>\n",
       "      <th></th>\n",
       "      <th></th>\n",
       "      <th></th>\n",
       "      <th></th>\n",
       "    </tr>\n",
       "  </thead>\n",
       "  <tbody>\n",
       "    <tr>\n",
       "      <th>2019-10-01</th>\n",
       "      <td>180.21</td>\n",
       "      <td>185.05</td>\n",
       "      <td>175.81</td>\n",
       "      <td>177.34</td>\n",
       "      <td>7.676276e+09</td>\n",
       "      <td>DATE\\n2019-10-01    19148222892\\n2019-09-30   ...</td>\n",
       "      <td>1.079744e+08</td>\n",
       "      <td>5.105193e+20</td>\n",
       "      <td>13571.0625</td>\n",
       "      <td>0.8166</td>\n",
       "      <td>2449.823</td>\n",
       "    </tr>\n",
       "    <tr>\n",
       "      <th>2019-09-30</th>\n",
       "      <td>170.46</td>\n",
       "      <td>179.87</td>\n",
       "      <td>167.04</td>\n",
       "      <td>179.87</td>\n",
       "      <td>7.552915e+09</td>\n",
       "      <td>DATE\\n2019-10-01    19148222892\\n2019-09-30   ...</td>\n",
       "      <td>1.079609e+08</td>\n",
       "      <td>1.014741e+21</td>\n",
       "      <td>13445.5625</td>\n",
       "      <td>0.9369</td>\n",
       "      <td>2461.362</td>\n",
       "    </tr>\n",
       "    <tr>\n",
       "      <th>2019-09-29</th>\n",
       "      <td>174.61</td>\n",
       "      <td>175.21</td>\n",
       "      <td>167.00</td>\n",
       "      <td>170.50</td>\n",
       "      <td>6.497088e+09</td>\n",
       "      <td>DATE\\n2019-10-01    19148222892\\n2019-09-30   ...</td>\n",
       "      <td>1.079474e+08</td>\n",
       "      <td>1.131886e+21</td>\n",
       "      <td>13575.6875</td>\n",
       "      <td>0.9567</td>\n",
       "      <td>2451.547</td>\n",
       "    </tr>\n",
       "    <tr>\n",
       "      <th>2019-09-28</th>\n",
       "      <td>174.68</td>\n",
       "      <td>175.78</td>\n",
       "      <td>170.77</td>\n",
       "      <td>174.57</td>\n",
       "      <td>6.895423e+09</td>\n",
       "      <td>DATE\\n2019-10-01    19148222892\\n2019-09-30   ...</td>\n",
       "      <td>1.079338e+08</td>\n",
       "      <td>1.214597e+21</td>\n",
       "      <td>13530.6875</td>\n",
       "      <td>0.9522</td>\n",
       "      <td>2475.973</td>\n",
       "    </tr>\n",
       "    <tr>\n",
       "      <th>2019-09-27</th>\n",
       "      <td>166.65</td>\n",
       "      <td>175.61</td>\n",
       "      <td>163.21</td>\n",
       "      <td>174.71</td>\n",
       "      <td>7.909314e+09</td>\n",
       "      <td>DATE\\n2019-10-01    19148222892\\n2019-09-30   ...</td>\n",
       "      <td>1.079203e+08</td>\n",
       "      <td>1.239590e+21</td>\n",
       "      <td>13399.1250</td>\n",
       "      <td>0.9134</td>\n",
       "      <td>2483.532</td>\n",
       "    </tr>\n",
       "  </tbody>\n",
       "</table>\n",
       "</div>"
      ],
      "text/plain": [
       "              OPEN    HIGH     LOW   CLOSE        VOLUME  \\\n",
       "DATE                                                       \n",
       "2019-10-01  180.21  185.05  175.81  177.34  7.676276e+09   \n",
       "2019-09-30  170.46  179.87  167.04  179.87  7.552915e+09   \n",
       "2019-09-29  174.61  175.21  167.00  170.50  6.497088e+09   \n",
       "2019-09-28  174.68  175.78  170.77  174.57  6.895423e+09   \n",
       "2019-09-27  166.65  175.61  163.21  174.71  7.909314e+09   \n",
       "\n",
       "                                                   MARKET_CAP        supply  \\\n",
       "DATE                                                                          \n",
       "2019-10-01  DATE\\n2019-10-01    19148222892\\n2019-09-30   ...  1.079744e+08   \n",
       "2019-09-30  DATE\\n2019-10-01    19148222892\\n2019-09-30   ...  1.079609e+08   \n",
       "2019-09-29  DATE\\n2019-10-01    19148222892\\n2019-09-30   ...  1.079474e+08   \n",
       "2019-09-28  DATE\\n2019-10-01    19148222892\\n2019-09-30   ...  1.079338e+08   \n",
       "2019-09-27  DATE\\n2019-10-01    19148222892\\n2019-09-30   ...  1.079203e+08   \n",
       "\n",
       "            Transaction_Fee  Blockreward  Network_utilizatione  \\\n",
       "DATE                                                             \n",
       "2019-10-01     5.105193e+20   13571.0625                0.8166   \n",
       "2019-09-30     1.014741e+21   13445.5625                0.9369   \n",
       "2019-09-29     1.131886e+21   13575.6875                0.9567   \n",
       "2019-09-28     1.214597e+21   13530.6875                0.9522   \n",
       "2019-09-27     1.239590e+21   13399.1250                0.9134   \n",
       "\n",
       "            block_difficulty  \n",
       "DATE                          \n",
       "2019-10-01          2449.823  \n",
       "2019-09-30          2461.362  \n",
       "2019-09-29          2451.547  \n",
       "2019-09-28          2475.973  \n",
       "2019-09-27          2483.532  "
      ]
     },
     "execution_count": 85,
     "metadata": {},
     "output_type": "execute_result"
    }
   ],
   "source": [
    "df.head()"
   ]
  },
  {
   "cell_type": "code",
   "execution_count": null,
   "metadata": {},
   "outputs": [],
   "source": []
  },
  {
   "cell_type": "code",
   "execution_count": 87,
   "metadata": {
    "collapsed": true
   },
   "outputs": [
    {
     "data": {
      "text/html": [
       "<div>\n",
       "<style scoped>\n",
       "    .dataframe tbody tr th:only-of-type {\n",
       "        vertical-align: middle;\n",
       "    }\n",
       "\n",
       "    .dataframe tbody tr th {\n",
       "        vertical-align: top;\n",
       "    }\n",
       "\n",
       "    .dataframe thead th {\n",
       "        text-align: right;\n",
       "    }\n",
       "</style>\n",
       "<table border=\"1\" class=\"dataframe\">\n",
       "  <thead>\n",
       "    <tr style=\"text-align: right;\">\n",
       "      <th></th>\n",
       "      <th>OPEN</th>\n",
       "      <th>HIGH</th>\n",
       "      <th>LOW</th>\n",
       "      <th>CLOSE</th>\n",
       "      <th>VOLUME</th>\n",
       "      <th>MARKET_CAP</th>\n",
       "      <th>supply</th>\n",
       "      <th>Transaction_Fee</th>\n",
       "      <th>Blockreward</th>\n",
       "      <th>Network_utilizatione</th>\n",
       "      <th>block_difficulty</th>\n",
       "    </tr>\n",
       "    <tr>\n",
       "      <th>DATE</th>\n",
       "      <th></th>\n",
       "      <th></th>\n",
       "      <th></th>\n",
       "      <th></th>\n",
       "      <th></th>\n",
       "      <th></th>\n",
       "      <th></th>\n",
       "      <th></th>\n",
       "      <th></th>\n",
       "      <th></th>\n",
       "      <th></th>\n",
       "    </tr>\n",
       "  </thead>\n",
       "  <tbody>\n",
       "    <tr>\n",
       "      <th>2019-10-01</th>\n",
       "      <td>180.21</td>\n",
       "      <td>185.05</td>\n",
       "      <td>175.81</td>\n",
       "      <td>177.34</td>\n",
       "      <td>7.676276e+09</td>\n",
       "      <td>DATE\\n2019-10-01    19148222892\\n2019-09-30   ...</td>\n",
       "      <td>1.079744e+08</td>\n",
       "      <td>5.105193e+20</td>\n",
       "      <td>13571.0625</td>\n",
       "      <td>0.8166</td>\n",
       "      <td>2449.823</td>\n",
       "    </tr>\n",
       "    <tr>\n",
       "      <th>2019-09-30</th>\n",
       "      <td>170.46</td>\n",
       "      <td>179.87</td>\n",
       "      <td>167.04</td>\n",
       "      <td>179.87</td>\n",
       "      <td>7.552915e+09</td>\n",
       "      <td>DATE\\n2019-10-01    19148222892\\n2019-09-30   ...</td>\n",
       "      <td>1.079609e+08</td>\n",
       "      <td>1.014741e+21</td>\n",
       "      <td>13445.5625</td>\n",
       "      <td>0.9369</td>\n",
       "      <td>2461.362</td>\n",
       "    </tr>\n",
       "    <tr>\n",
       "      <th>2019-09-29</th>\n",
       "      <td>174.61</td>\n",
       "      <td>175.21</td>\n",
       "      <td>167.00</td>\n",
       "      <td>170.50</td>\n",
       "      <td>6.497088e+09</td>\n",
       "      <td>DATE\\n2019-10-01    19148222892\\n2019-09-30   ...</td>\n",
       "      <td>1.079474e+08</td>\n",
       "      <td>1.131886e+21</td>\n",
       "      <td>13575.6875</td>\n",
       "      <td>0.9567</td>\n",
       "      <td>2451.547</td>\n",
       "    </tr>\n",
       "    <tr>\n",
       "      <th>2019-09-28</th>\n",
       "      <td>174.68</td>\n",
       "      <td>175.78</td>\n",
       "      <td>170.77</td>\n",
       "      <td>174.57</td>\n",
       "      <td>6.895423e+09</td>\n",
       "      <td>DATE\\n2019-10-01    19148222892\\n2019-09-30   ...</td>\n",
       "      <td>1.079338e+08</td>\n",
       "      <td>1.214597e+21</td>\n",
       "      <td>13530.6875</td>\n",
       "      <td>0.9522</td>\n",
       "      <td>2475.973</td>\n",
       "    </tr>\n",
       "    <tr>\n",
       "      <th>2019-09-27</th>\n",
       "      <td>166.65</td>\n",
       "      <td>175.61</td>\n",
       "      <td>163.21</td>\n",
       "      <td>174.71</td>\n",
       "      <td>7.909314e+09</td>\n",
       "      <td>DATE\\n2019-10-01    19148222892\\n2019-09-30   ...</td>\n",
       "      <td>1.079203e+08</td>\n",
       "      <td>1.239590e+21</td>\n",
       "      <td>13399.1250</td>\n",
       "      <td>0.9134</td>\n",
       "      <td>2483.532</td>\n",
       "    </tr>\n",
       "  </tbody>\n",
       "</table>\n",
       "</div>"
      ],
      "text/plain": [
       "              OPEN    HIGH     LOW   CLOSE        VOLUME  \\\n",
       "DATE                                                       \n",
       "2019-10-01  180.21  185.05  175.81  177.34  7.676276e+09   \n",
       "2019-09-30  170.46  179.87  167.04  179.87  7.552915e+09   \n",
       "2019-09-29  174.61  175.21  167.00  170.50  6.497088e+09   \n",
       "2019-09-28  174.68  175.78  170.77  174.57  6.895423e+09   \n",
       "2019-09-27  166.65  175.61  163.21  174.71  7.909314e+09   \n",
       "\n",
       "                                                   MARKET_CAP        supply  \\\n",
       "DATE                                                                          \n",
       "2019-10-01  DATE\\n2019-10-01    19148222892\\n2019-09-30   ...  1.079744e+08   \n",
       "2019-09-30  DATE\\n2019-10-01    19148222892\\n2019-09-30   ...  1.079609e+08   \n",
       "2019-09-29  DATE\\n2019-10-01    19148222892\\n2019-09-30   ...  1.079474e+08   \n",
       "2019-09-28  DATE\\n2019-10-01    19148222892\\n2019-09-30   ...  1.079338e+08   \n",
       "2019-09-27  DATE\\n2019-10-01    19148222892\\n2019-09-30   ...  1.079203e+08   \n",
       "\n",
       "            Transaction_Fee  Blockreward  Network_utilizatione  \\\n",
       "DATE                                                             \n",
       "2019-10-01     5.105193e+20   13571.0625                0.8166   \n",
       "2019-09-30     1.014741e+21   13445.5625                0.9369   \n",
       "2019-09-29     1.131886e+21   13575.6875                0.9567   \n",
       "2019-09-28     1.214597e+21   13530.6875                0.9522   \n",
       "2019-09-27     1.239590e+21   13399.1250                0.9134   \n",
       "\n",
       "            block_difficulty  \n",
       "DATE                          \n",
       "2019-10-01          2449.823  \n",
       "2019-09-30          2461.362  \n",
       "2019-09-29          2451.547  \n",
       "2019-09-28          2475.973  \n",
       "2019-09-27          2483.532  "
      ]
     },
     "execution_count": 87,
     "metadata": {},
     "output_type": "execute_result"
    }
   ],
   "source": [
    "test2.head()"
   ]
  },
  {
   "cell_type": "code",
   "execution_count": 89,
   "metadata": {},
   "outputs": [],
   "source": [
    " test3 = test2.drop(['OPEN','HIGH','LOW','CLOSE','VOLUME','MARKET_CAP'],axis = 1)"
   ]
  },
  {
   "cell_type": "code",
   "execution_count": 90,
   "metadata": {},
   "outputs": [],
   "source": [
    "test3.to_pickle('cleaned_prj3.pkl')"
   ]
  },
  {
   "cell_type": "code",
   "execution_count": null,
   "metadata": {},
   "outputs": [],
   "source": []
  }
 ],
 "metadata": {
  "kernelspec": {
   "display_name": "Python 3",
   "language": "python",
   "name": "python3"
  },
  "language_info": {
   "codemirror_mode": {
    "name": "ipython",
    "version": 3
   },
   "file_extension": ".py",
   "mimetype": "text/x-python",
   "name": "python",
   "nbconvert_exporter": "python",
   "pygments_lexer": "ipython3",
   "version": "3.7.3"
  }
 },
 "nbformat": 4,
 "nbformat_minor": 2
}
